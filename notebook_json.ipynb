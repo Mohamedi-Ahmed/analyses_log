{
 "cells": [
  {
   "cell_type": "markdown",
   "metadata": {},
   "source": [
    "**A vous de jouer pour retrouver le/les hackers (blackhat) infiltrés.**\n",
    "1) Parcourez le fichier pour trouver la liste de tous les utilisateurs qui se sont connectés, enregistrez cette liste dans un fichier utilisateurs.txt."
   ]
  },
  {
   "cell_type": "markdown",
   "metadata": {},
   "source": [
    "Creation d'une fonction pour lire le fichier de logs et récupérer ces derniers."
   ]
  },
  {
   "cell_type": "code",
   "execution_count": 2,
   "metadata": {},
   "outputs": [
    {
     "name": "stdout",
     "output_type": "stream",
     "text": [
      "['214.218.210.12', 'maddux', '05/10/15 17:00']\n"
     ]
    }
   ],
   "source": [
    "def read_files(filename) :\n",
    "    \n",
    "    txt = []\n",
    "    f = open(filename, \"r\")\n",
    "    txt = f.read().splitlines()\n",
    "    f.close()\n",
    "    return txt\n",
    "\n",
    "namefile = \"connexion.log\"\n",
    "pathfile = \"./\"\n",
    "\n",
    "full_filepath = pathfile + namefile\n",
    "\n",
    "myConnexions = read_files(full_filepath)\n",
    "print(myConnexions[0].split(\";\"))"
   ]
  },
  {
   "cell_type": "markdown",
   "metadata": {},
   "source": [
    "Creation d'une fonction pour récupérer les utilisateurs à partir des logs."
   ]
  },
  {
   "cell_type": "code",
   "execution_count": 8,
   "metadata": {},
   "outputs": [
    {
     "name": "stdout",
     "output_type": "stream",
     "text": [
      "['steven', 'stigmasterol', 'attitude', 'terwilliger', 'outplay', 'ragouzis', 'angulate', 'petitionary', 'protoxylem', 'selfesteem', 'danndanna', 'sialkot', 'delindadelineate', 'diadelphous', 'mechanist', 'stane', 'penumbra', 'dense', 'reede', 'septi', 'passed', 'babineaux', 'hortensiahorter', 'furr', 'galang', 'kanya', 'incandescence', 'abbate', 'schenck', 'sporogonium', 'hurless', 'attica', 'yah', 'hereafter', 'mylesmylitta', 'unprejudiced', 'safekeeping', 'alms', 'caseose', 'andie', 'blanka', 'situate', 'jenevajeni', 'sola', 'dira', 'lanie', 'rabble', 'dissymmetry', 'hike', 'gisarme', 'scheelite', 'hiro', 'unsnap', 'kennet', 'shulman', 'ormond', 'stutter', 'overelaborate', 'esther', 'contravention', 'bibliography', 'sollie', 'prandial', 'dumas', 'sumptuary', 'fowling', 'heterochromatin', 'hurley', 'diarmid', 'adria', 'protectionism', 'malign', 'reyreyes', 'damned', 'neddy', 'unstrap', 'krysta', 'caundra', 'sharmainesharman', 'repand', 'cellulose', 'hideaway', 'orontes', 'until', 'heptastich', 'narrows', 'tucson', 'silencer', 'circumspect', 'gutenberg', 'transfusion', 'nava', 'agist', 'bally', 'thornhill', 'stephniestepladder', 'repentance', 'ugh', 'gouda', 'wedged', 'lovelady', 'coachwhip', 'birthroot', 'joey', 'colombes', 'kao', 'clyburn', 'rambling', 'possess', 'transistorize', 'boatright', 'permanent', 'necessitous', 'disario', 'flabellum', 'leandro', 'raised', 'newsman', 'deferment', 'hindu', 'lieberman', 'articulator', 'deel', 'given', 'tilth', 'olney', 'ushaushant', 'heartstricken', 'strapper', 'jacksmelt', 'incapable', 'lomalomas', 'saree', 'nevertheless', 'soundproof', 'squabble', 'tahmosh', 'cyanite', 'runofthemill', 'hideandseek', 'nymphalid', 'bree', 'smashandgrab', 'marabou', 'lawrence', 'irv', 'grope', 'imprecise', 'liquidity', 'stichous', 'furlani', 'wonky', 'erythrocyte', 'construct', 'larochelle', 'graduation', 'anneliese', 'gilbertogilbertson', 'helainehelali', 'blane', 'harley', 'jadajadd', 'albumin', 'splasher', 'nettienetting', 'palmer', 'ragin', 'dominions', 'outfielder', 'mawkish', 'xochitlxp', 'rahman', 'nielsen', 'firmament', 'kaiak', 'boarhound', 'clark', 'counterchange', 'wingless', 'blatt', 'print', 'dishonorable', 'orthicon', 'alton', 'cognation', 'epistemology', 'rabbinism', 'autoradiograph', 'bowknot', 'bogeyman', 'buckshee', 'genna', 'electrotherapy', 'evanthe', 'cementum', 'babin', 'traipse', 'braces', 'casaba', 'edile', 'ole', 'alkali', 'whacky', 'nebiim', 'weeks', 'customer', 'auric', 'cookbook', 'biotope', 'mature', 'plattdeutsch', 'larimer', 'kermitkermy', 'kai', 'lavone', 'stockman', 'deibel', 'polarity', 'deck', 'adar', 'rumanian', 'petersen', 'seaworthy', 'inion', 'escrow', 'deaver', 'fino', 'maishamaisie', 'directed', 'barabarabarabas', 'stila', 'frank', 'straddle', 'dice', 'ops', 'pekin', 'sibel', 'cincture', 'resolved', 'rennin', 'oenomel', 'airburst', 'wrapped', 'faradic', 'evaporate', 'polymeric', 'etheline', 'manualmanubrium', 'mello', 'latrinalatrine', 'depression', 'vicechancellor', 'maddux', 'kinzer', 'grappling', 'phobos', 'madagascar', 'norrisnorrv', 'ochoa', 'mobocracy', 'pappy', 'agribusiness', 'fredric', 'woodprint', 'sherlock', 'imponderabilia', 'defective', 'curtiscurtiss', 'pelaga', 'bello', 'miscellaneous', 'wholesale', 'aquamarine', 'mychael', 'belga', 'express', 'alister', 'greggs', 'didynamous', 'dryden', 'ries', 'anastatius', 'burl', 'negron', 'corned', 'victim', 'haffner', 'pugilist', 'homothermal', 'dugan', 'somme', 'lurdan', 'rappee', 'genesia', 'mechling', 'gurolinick', 'affidavit', 'immerge', 'artery', 'germaine', 'markel', 'janettejaneva', 'blunt', 'bobby', 'concertino', 'granulose', 'complexity', 'nonresident', 'aduwa', 'sarong', 'paring', 'retraction', 'redfish', 'glee', 'epiphysis', 'etherize', 'gretchen', 'traweek', 'viyella', 'stiles', 'pickett', 'bonus', 'pridgen', 'beachlamar', 'graham', 'cornel', 'electroencephalogram', 'archivist', 'dicta', 'shaman', 'illene', 'bernadine', 'egotist', 'grafting', 'where', 'walke', 'paedogenesis', 'dit', 'svetlanasvoboda', 'giuseppinagiustina', 'gurkha', 'anabantid', 'tubercle', 'angelia', 'disinfectant', 'deannadeanne', 'jenijenica', 'sambo', 'mellott', 'treatment', 'amok', 'hatter', 'elamite', 'leatrice', 'orometer', 'pyjamas', 'jat', 'bad', 'hexapody', 'geronimo', 'scent', 'ilyssa', 'steinke', 'richma', 'iey', 'mather', 'mogador', 'scamper', 'gastrotrich', 'mongrelize', 'matland', 'dripstone', 'raynata', 'monzonite', 'haydeehayden', 'vermiform', 'prent', 'extrajudicial', 'lassiter', 'kaslik', 'barter', 'gustafson', 'baccy', 'begum', 'osmose', 'gape', 'marianelamariani', 'chaulmoogra', 'oneupmanship', 'contrite', 'juju', 'transmittance', 'rubierubiginous', 'enthuse', 'flighty', 'sclerodermatous', 'vega', 'jerryjerrybuild', 'reverberation', 'ananias', 'tedda', 'sage', 'medwin', 'aliped', 'nibelungenlied', 'menstruum', 'woodshed', 'polyester', 'leonoreleonsis', 'minnick', 'enquire', 'rowdy', 'aguiar', 'determiner', 'hyposthenia', 'kee', 'slay', 'barger', 'bushweller', 'sectarian', 'gemination', 'gambol', 'deflation', 'mundell', 'nitrobenzene', 'halfback', 'troublesome', 'daugherty', 'amathiste', 'modernism', 'romance', 'elwood', 'chiffon', 'countercharge', 'tussah', 'helenahelene', 'angelo', 'desantis', 'apparatus', 'blankenship', 'jadeite', 'shandishandie', 'insectile', 'lindner', 'pallua', 'boiler', 'berg', 'gile', 'krause', 'hough', 'dipteral', 'decongestant', 'nonstriated', 'unfeeling', 'fixture', 'desertion', 'birnbaum', 'barmen', 'campground', 'hals', 'pronuba', 'terse', 'busload', 'boeke', 'broeker', 'corn', 'icao', 'toritorie', 'leticialetisha', 'higgs', 'thereabouts', 'latea', 'clower', 'stallion', 'layman', 'cleocleobulus', 'housekeeping', 'maxillary', 'sulphanilamide', 'cretinism', 'move', 'excretion', 'broadtail', 'bout', 'maulmain', 'godbeare', 'parkman', 'skillless', 'tesch', 'emissary', 'greet', 'arbor', 'gus', 'aubade', 'occidentalize', 'chook', 'churn', 'singlefoot', 'dickman', 'seeing', 'magill', 'toby', 'strawflower', 'ipsus', 'gawlas', 'electrotechnology', 'dimension', 'oe', 'wrand', 'muricate', 'palladio', 'discreet', 'steelworker', 'tafoya', 'vivisect', 'ellissa', 'verminous', 'derbyshire', 'plast', 'wilek', 'endophyte', 'plebeian', 'gudgeon', 'medardas', 'hyson', 'trieste', 'golliner', 'oligochaete', 'selestina', 'skyway', 'permanganate', 'mcroberts', 'kunz', 'kandace', 'mousebird', 'bradawl', 'ontology', 'homemaker', 'hinson', 'ivory', 'republican', 'engels', 'rothman', 'celenacelene', 'aalii', 'lionel', 'fussy', 'monet', 'eichman', 'parrnell', 'lightfooted', 'ammon', 'airhead', 'redford', 'agripinaagrippa', 'otti', 'skiagraph', 'nutria', 'uraemia', 'spirula', 'poussette', 'crissycrist', 'schmid', 'swithbart', 'shindig', 'hollingsworth', 'dicot', 'ferrari', 'convexity', 'critta', 'benson', 'tony', 'hic', 'bertrambertrand', 'trent', 'domineca', 'dipsomania', 'haywoodhayyim', 'veiling', 'ova', 'stat', 'socialist', 'beabeach', 'slug', 'kamin', 'jovitta', 'republicanize', 'softfinned', 'confusion', 'jeminah', 'aerugo', 'glenda', 'tropo', 'nolannolana', 'braswell', 'outreach', 'iridize', 'marthena', 'cubeb', 'swansea', 'pierrette', 'pintsize', 'tret', 'ashia', 'mundane', 'durwin', 'coastline', 'altorilievo', 'nichrome', 'dorcy', 'paternal', 'matrix', 'ellipticity', 'summersummerhouse', 'coad', 'haphtarah', 'verso', 'insouciance', 'naiad', 'brickyard', 'orthman', 'rummage', 'wismar', 'anticlinorium', 'geopolitics', 'cioffred', 'touristy', 'muro', 'enceinte', 'erinaceous', 'chromogenic', 'sonnnie', 'characteristic', 'ep', 'ebersole', 'drogheda', 'presentment', 'ephesus', 'essene', 'bein', 'eyeful', 'nuts', 'grevera', 'maraca', 'fite', 'champollion', 'kaleidoscopic', 'mandamandaean', 'cursory', 'mummify', 'newsstand', 'chau', 'brittle', 'corycorybant', 'saxon', 'contraption', 'febrifuge', 'owlet', 'bangweulu', 'kab', 'kiehl', 'tsarevitch', 'pessa', 'lifetime', 'hereabouts', 'verger', 'lupelupee', 'musteline', 'galvano', 'sascha', 'aspire', 'arturoartus', 'portage', 'marleah', 'ritualism', 'foliose', 'verdun', 'bertilla', 'bentonbentonite', 'champac', 'contrarily', 'agrestic', 'drypoint', 'beardsley', 'ultramundane', 'outdate', 'hepatic', 'filtrate', 'closelipped', 'cosentino', 'quatrefoil', 'compilation', 'isreal', 'leeann', 'whetstone', 'argentous', 'effervesce', 'michikomichon', 'turd', 'tortile', 'limassol', 'embow', 'centralia', 'kinna', 'backbreaking', 'hancock', 'bernardo', 'rehabilitate', 'kragh', 'hoffmann', 'barrelhouse', 'annulose', 'lammas', 'hymettus', 'grandson', 'inboard', 'tempa', 'savarin', 'wolfram', 'rhiana', 'leiker', 'protasis', 'patronymic', 'morrissey', 'leek', 'xray', 'maplemaples', 'chloroprene', 'devitalize', 'brake', 'vexed', 'wahkuna', 'troche', 'sowens', 'trabzon', 'trouvaille', 'dekko', 'antonia', 'rutledge', 'stamin', 'pithead', 'proust', 'mausoleum', 'niko', 'machree', 'cyano', 'vermiculate', 'guitar', 'nancienancy', 'earwax', 'doersten', 'sipple', 'persia', 'trituration', 'matthei', 'maice', 'krall', 'expectorant', 'tecu', 'freud', 'frailty', 'amersfoort', 'cohbath', 'montage', 'saltcellar', 'footrest', 'schnook', 'formwork', 'orlop', 'kris', 'luis', 'saintsimonianism', 'vola', 'tittle', 'heid', 'anissaanita', 'momus', 'aloes', 'adlei', 'plugugly', 'disclamation', 'interconnect', 'sixtasixteen', 'cerebration', 'clywd', 'simone', 'haller', 'uwton', 'monetta', 'nguyen', 'fadeless', 'gothar', 'bates', 'deictic', 'fear', 'domella', 'bobsledding', 'endosperm', 'brandenburg', 'rhamnaceous', 'terpstra', 'warrantable', 'berndt', 'environs', 'putumayo', 'godless', 'slouch', 'cedric', 'accidental', 'herculaneum', 'outcrop', 'florentinoflorenza', 'eberta', 'colton', 'marivaux', 'harrar', 'hennessy', 'overwinter', 'arenicolous', 'deactivate', 'geffner', 'flemming', 'hebe', 'pretor', 'hasson', 'pondweed', 'hare', 'pursuivant', 'harvester', 'inequity', 'dingbat', 'pragmatist', 'wheelman', 'marigolde', 'kalahari', 'typhogenic', 'cinnabar', 'sung', 'thirty', 'sorry', 'gazo', 'homelike', 'modestomodesty', 'shack', 'fideicommissary', 'lycia', 'mistrustful', 'petty', 'score', 'froe', 'remit', 'kookaburra', 'tang', 'christenson', 'autolycus', 'spermatophore', 'laubin', 'milford', 'odalisque', 'brawley', 'jarad', 'jackinthepulpit', 'stouffer', 'stableboy', 'treviso', 'massimo', 'melisa', 'injury', 'crump', 'gothicism', 'alphonsoalphonsus', 'durkin', 'drumlin', 'lineation', 'doralyn', 'atli', 'gothart', 'misfit', 'mnemonic', 'noise', 'pandowdy', 'gymnast', 'syringomyelia', 'dirigible', 'pomerleau', 'tarsometatarsus', 'knucklebone', 'superinduce', 'leake', 'nickname', 'octodecillion', 'kirbie', 'corrade', 'gratis', 'sikes', 'franzen', 'lazurite', 'cherida', 'pointblank', 'claresta', 'fishbolt', 'barong', 'ashok', 'alcoran', 'accoucheur', 'caneghem', 'turnstone', 'perique', 'sholley', 'restless', 'postage', 'punak', 'vesper', 'scurry', 'leaguer', 'jeffery', 'bussell', 'vines', 'ermines', 'vedis', 'katakana', 'furmark', 'kibosh', 'electrocautery', 'blaylock', 'bernetta', 'ilk', 'arvonio', 'plebiscite', 'baxter', 'hausfrau', 'ji', 'drier', 'vicar', 'choragus', 'sciential', 'toad', 'padang', 'flimflam', 'circumstance', 'stickup', 'morez', 'botanomancy', 'optician', 'pickaback', 'messalina', 'elconin', 'danelaw', 'despite', 'bumpy', 'nunnery', 'soupy', 'filippo', 'haskins', 'presurmise', 'tremendous', 'passementerie', 'akins', 'tardif', 'empiricism', 'brause', 'penchant', 'egbert', 'rozalin', 'forename', 'misprize', 'wall', 'emergent', 'cicala', 'doelling', 'sat', 'clouded', 'anguilliform', 'puddling', 'tipster', 'papillary', 'paradox', 'gynoecium', 'maybellmaybelle', 'disposed', 'stelmach', 'narco', 'deterge', 'cerebro', 'foxworth', 'secundine', 'lully', 'vague', 'longlimbed', 'sacramentalism', 'maryrose', 'surtax', 'fluency', 'vagrancy', 'suiting', 'palomino', 'tabloid', 'electrolytic', 'aarhus', 'veritable', 'chlorite', 'directorial', 'irreverence', 'clyte', 'balderdash', 'sherleysherline', 'mcdonough', 'additive', 'baerman', 'spectacles', 'blacksmith', 'alexandro', 'greengage', 'reich', 'photoconductivity', 'contravene', 'tibbetts', 'embank', 'pirog', 'ugrian', 'charis', 'krems', 'craunch', 'matteroffact', 'muirhead', 'alee', 'letti', 'colquitt', 'alexi', 'stodder', 'gnat', 'ileanaileane', 'melodize', 'fin', 'coactive', 'stabilizer', 'aeolipile', 'creatural', 'prothallus', 'clumsy', 'foulmouthed', 'adumbrate', 'mentality', 'shonda', 'whitefaced', 'charteris', 'embower', 'premeditate', 'radu', 'fowliang', 'frascati', 'mistook', 'rimskykorsakov', 'dynamometer', 'red', 'miso', 'doublebank', 'involuntary', 'oba', 'burton', 'lehman', 'malediction', 'ticktack', 'megalocardia', 'akeylah', 'ferromagnesian', 'sanitarium', 'mentalist', 'firmin', 'microcline', 'elurd', 'homograft', 'cowage', 'hurricane', 'amylum', 'christmas', 'bodice', 'corkwood', 'owenowena', 'setback', 'protist', 'vortumnus', 'ita', 'libenson', 'pointing', 'twobit', 'abolish', 'valediction', 'blotch', 'ree', 'quindecennial', 'modulus', 'eskill', 'essie', 'dong', 'bailiwick', 'sharynshashlik', 'porche', 'aguascalientes', 'unconcerned', 'reservist', 'noiseless', 'fertilize', 'alberic', 'streusel', 'maloney', 'parent', 'groot', 'wirth', 'cinque', 'thorne', 'stoecker', 'conurbation', 'caffrey', 'lacking', 'suburb', 'kussell', 'unciform', 'rimbaud', 'felder', 'coryphaeus', 'externalization', 'crescentic', 'raseta', 'liquefy', 'ditty', 'sharkey', 'solley', 'bianchi', 'hay', 'gilbreath', 'compressibility', 'harveyharvie', 'billhook', 'atwood', 'kelton', 'deenadeenya', 'aube', 'teazel', 'armes', 'exploit', 'bostick', 'gesellschaft', 'heterophyllous', 'thiourea', 'elizabetelizabeth', 'drayton', 'caseate', 'talbott', 'threescore', 'puffer', 'kachine', 'kwei', 'hyperaesthesia', 'chesna', 'often', 'huntington', 'jobyna', 'dexterous', 'membranous', 'bridge', 'lanham', 'rumormonger', 'ovary', 'arbitrary', 'dichotomy', 'leflore', 'surat', 'tribulation', 'paleoasiatic', 'velleman', 'etiquette', 'ballard', 'beulahbeuthel', 'changeling', 'tallulah', 'fremont', 'hobnailed', 'incoherence', 'octahedral', 'nicotiana', 'melentha', 'jipijapa', 'goodly', 'allegra', 'disconsolate', 'sematic', 'respire', 'rectitude', 'chock', 'pushup', 'badalona', 'birkle', 'spurling', 'vainglorious', 'behaviorism', 'rees', 'eximious', 'emeryemesis', 'strawn', 'dupre', 'openhearth', 'hodgson', 'anabelanabella', 'phalansterian', 'schuss', 'ophthalmoscope', 'icon', 'fumigate', 'scorpius', 'appendage', 'leading', 'freeman', 'bradbradan', 'munson', 'mongolia', 'thaumaturgy', 'doloritas', 'mario', 'keener', 'apps', 'morrie', 'equipoise', 'scleroderma', 'facultative', 'cheung', 'erechtheum', 'excavate', 'tekla', 'roxane', 'jealousy', 'mick', 'panier', 'jervis', 'grecize', 'cardialgia', 'hellman', 'edacity', 'crescint', 'cruse', 'inexpensive', 'waylin', 'billow', 'regelation', 'vivien', 'homebred', 'wort', 'electrophilic', 'roxieroxine', 'nodule', 'melanite', 'tonita', 'achondroplasia', 'spotweld', 'roundly', 'sugar', 'megan', 'basanite', 'croze', 'emblaze', 'uria', 'dinadinah', 'sheepcote', 'criminate', 'hydrops', 'desirae', 'uribe', 'pushover', 'fanlight', 'anatomy', 'condyloma', 'scotch', 'creature', 'tate', 'barrens', 'leif', 'chenille', 'astragalus', 'seymourseys', 'dwelling', 'justiciable', 'rame', 'flunkey', 'luddite', 'spearing', 'mastic', 'demantoid', 'axenic', 'dicho', 'smashing', 'avion', 'sweater', 'blair', 'duchess', 'whimsey', 'hangout', 'emmett', 'scyphate', 'allowance', 'kelleher', 'goldfish', 'vidda', 'steinberg', 'catlett', 'darrickdarrill', 'tami', 'labionasal', 'vallation', 'schuyler', 'misdirection', 'bethink', 'seventeen', 'harpoon', 'collaboration', 'milano', 'blat', 'stoffel', 'purser', 'buseck', 'vociferate', 'triliteral', 'outlive', 'hexagon', 'millennium', 'sinner', 'estrange', 'gumbotil', 'waly', 'oocyte', 'enteron', 'clayborne', 'grainy', 'emboly', 'meaningless', 'assembly', 'offen', 'hemangioma', 'coopery', 'halstead', 'luminosity', 'shuster', 'kidney', 'queen', 'excitation', 'lindie', 'estivation', 'kittykitwe', 'selfregard', 'happ', 'craniology', 'rental', 'deafanddumb', 'luxemburg', 'karena', 'tendance', 'histrionism', 'paintbox', 'hyrcania', 'amphibrach', 'paulie', 'debtor', 'dawna', 'easting', 'stefa', 'julienne', 'eleanoreleanora', 'brandes', 'heelandtoe', 'clinical', 'anticlockwise', 'endure', 'paduasoy', 'smoothen', 'rameau', 'digiacomo', 'parallelize', 'ponce', 'cockadoodledoo', 'eolande', 'ricercare', 'thrave', 'tarsia', 'vercingetorix', 'hatfield', 'niki', 'mallee', 'kalif', 'calix', 'parasitize', 'waterless', 'sassanid', 'noami', 'arvie', 'ireful', 'hullda', 'kinser', 'dissepiment', 'stonecutter', 'holdover', 'blastocyst', 'karinekariotta', 'coley', 'cushitic', 'ludie', 'johnette', 'acanthus', 'stereogram', 'holifield', 'crispate', 'nudge', 'chrysler', 'hosbein', 'lolitaloll', 'chatterbox', 'hondo', 'anteversion', 'edmondedmonda', 'mascarenas', 'guanabara', 'arraignment', 'frederik', 'darreldarrell', 'creativity', 'edenedens', 'jehiah', 'bicycle', 'kinson', 'menard', 'ungainly', 'gasaway', 'knute', 'slr', 'quinnquinol', 'godown', 'workmanship', 'karyosome', 'week', 'mcnair', 'ramentum', 'tamtam', 'cacodyl', 'genoa', 'gingras', 'spieler', 'cleary', 'corporal', 'fiddler', 'unprepared', 'brazilin', 'hassett', 'urochrome', 'attribute', 'pebrook', 'danilodanio', 'noncontributory', 'mcwhirter', 'meseems', 'estrada', 'caiaphas', 'lecialecithin', 'garry', 'isopiestic', 'watkin', 'jamikajamil', 'homophony', 'ruthanneruthe', 'belligerency', 'forman', 'vinson', 'fisk', 'osteomalacia', 'sidesman', 'steddman', 'deciduous', 'insula', 'girlie', 'sisak', 'winder', 'beliabelial', 'modena', 'ancalin', 'unimproved', 'jessiajessica', 'duroc', 'burkhalter', 'infeasible', 'sparky', 'panocha', 'prussia', 'peace', 'cloth', 'helfrich', 'serpigo', 'guyer', 'seizing', 'hymnist', 'fritts', 'pless', 'pugging', 'whomever', 'paries', 'terrilynterrine', 'fraase', 'kosey', 'churchless', 'spaceless', 'gulick', 'plagioclase', 'coit', 'conant', 'higdon', 'shriver', 'tedmund', 'nonanonage', 'detect', 'watterson', 'cartwheel', 'translunar', 'debra', 'alake', 'pitt', 'evanston', 'plop', 'jilly', 'catatonia', 'standpipe', 'havard', 'xanthe', 'banian', 'calandracalandria', 'gast', 'recalesce', 'shanks', 'rhythmics', 'tifanytiff', 'wesleyanism', 'cerebrate', 'venita', 'pernicious', 'critical', 'tammietammuz', 'majewski', 'excited', 'epi', 'conferva', 'tu', 'maddy', 'blastogenesis', 'guardsman', 'espadrille', 'antennule', 'hypercriticism', 'rufina', 'alfy', 'taam', 'aksoyn', 'spacial', 'piston', 'getty', 'participate', 'medina', 'licko', 'bale', 'representationalism', 'labarum', 'ostrich', 'valdis', 'ramos', 'electrothermics', 'lushy', 'olfe', 'balzac', 'alonaalone', 'flinders', 'fatuity', 'ditheism', 'stefansson', 'gauss', 'usherette', 'carl', 'sophistry', 'worlock', 'intemerate', 'jubilant', 'aland', 'goad', 'feigned', 'pottle', 'sentient', 'jinny', 'modifier', 'taunt', 'cinchonism', 'benevolence', 'barbarossa', 'net', 'undersurface', 'oversupply', 'morale', 'butylene', 'blush', 'hescock', 'sather', 'omor', 'estrella', 'calcimine', 'boden', 'turnpike', 'combatant', 'neron', 'virendra', 'wallasey', 'if', 'ultramicrometer', 'meridithmeriel', 'misrepresent', 'submergible', 'tetrapody', 'multivibrator', 'ursel', 'tribalism', 'loella', 'plenitude', 'blackthorn', 'jochbed', 'platelet', 'sifuentes', 'cartier', 'spherics', 'adp', 'carapace', 'preserve', 'hybris', 'percival', 'mariner', 'weep', 'atheist', 'flyblown', 'hollingshead', 'windbreak', 'while', 'quinby', 'lefton', 'eaglestone', 'counterpunch', 'jolley', 'fricke', 'agraffe', 'gillette', 'jennyjeno', 'thorianite', 'logsdon', 'subacid', 'castellano', 'polysyllable', 'mannerly', 'lander', 'lipsey', 'disbelief', 'mukul', 'tugman', 'jaddo', 'remiss', 'erebus', 'cooke', 'dactylogram', 'hathor', 'grime', 'louella', 'sharp', 'semiprofessional', 'incorrect', 'desiderata', 'confiscate', 'ganof', 'restive', 'bank', 'huffman', 'catiline', 'obstacle', 'lazarus', 'candlestick', 'uninstructed', 'caballero', 'pierre', 'tintinnabulum', 'voss', 'tichonn', 'barta', 'mallon', 'tael', 'nectareous', 'gash', 'borglum', 'cesarean', 'deportation', 'peppy', 'payable', 'quintan', 'estimative', 'limoges', 'mossback', 'chevron', 'chromaticness', 'hostage', 'multivocal', 'homoio', 'menhaden', 'maas', 'scammony', 'marquesan', 'deliberative', 'malek', 'consciencestricken', 'tabbatha', 'postern', 'potency', 'pero', 'led', 'besotted', 'fairtrade', 'parvati', 'chisel', 'terreverte', 'princedom', 'shakti', 'pineapple', 'novella', 'rising', 'damon', 'bankruptcy', 'tabor', 'gyrostabilizer', 'surfing', 'locris', 'desideratum', 'cardholder', 'bootstrap', 'borzoi', 'mezereum', 'lumberjack', 'gunnysack', 'northernmost', 'nilson', 'stilla', 'hippocrates', 'rathbone', 'piercy', 'hurst', 'norword', 'gompers', 'carbajal', 'geary', 'farthing', 'bethanybethe', 'batten', 'vara', 'protero', 'baeda', 'essary', 'sleepyhead', 'turmeric', 'towrey', 'gobble', 'nonoccurrence', 'petersham', 'comte', 'maganmagana', 'pilsner', 'allegro', 'prevention', 'evidentiary', 'graf', 'wagonage', 'toothbrush', 'shellbark', 'equally', 'demandant', 'aggappora', 'illustrate', 'greenbelt', 'empower', 'mears', 'lucite', 'cowan', 'krigsman', 'leuco', 'psalter', 'swink', 'impassive', 'glyndaglynias', 'hollister', 'adrienneadrift', 'villalpando', 'longevity', 'cristen', 'goldshell', 'retrieve', 'jone', 'schargel', 'nagel', 'frankie', 'antarctica', 'lowry', 'whyte', 'polyp', 'armijo', 'antipathetic', 'gadgetry', 'rivas', 'arciform', 'doubleedged', 'litho', 'flavour', 'reina', 'staphylo', 'shiff', 'radiopaque', 'praline', 'freddyfredek', 'resurgent', 'godroon', 'outguard', 'adsorbent', 'como', 'georgiegeorgina', 'euler', 'rearward', 'wilheminawilhide', 'ellary', 'luxurious', 'dupaix', 'headdress', 'willianwillie', 'ils', 'upset', 'redouble', 'ginglymus', 'brooks', 'carrier', 'sirois', 'springhead', 'renz', 'sears', 'maier', 'intravasation', 'rabbet', 'woodwaxen', 'seasoning', 'teleview', 'chalcedony', 'nye', 'cyclopedia', 'aldo', 'lallation', 'ibiza', 'bate', 'samale', 'mackenziemackerel', 'miffy', 'sammie', 'umiak', 'dilator', 'ref', 'transonic', 'blueprint', 'serena', 'unwitnessed', 'goodwife', 'declarant', 'windham', 'cosette', 'kansu', 'founder', 'capello', 'infidel', 'lyrate', 'quake', 'menthol', 'indue', 'marquise', 'testate', 'lancaster', 'peek', 'stomatal', 'mallette', 'nationalist', 'mair', 'willey', 'randyranee', 'odysseus', 'contortion', 'horton', 'readiness', 'amadeus', 'hultgren', 'springspringboard', 'tarah', 'sucy', 'fridell', 'psychobiology', 'glycine', 'castor', 'karat', 'betti', 'conway', 'this', 'jigging', 'neral', 'evan', 'jerz', 'afterpiece', 'diagnose', 'fiddling', 'insurgence', 'cocklebur', 'joanejoanie', 'witham', 'subvention', 'lassa', 'ballentine', 'tove', 'farro', 'eggbeater', 'banyan', 'kist', 'tombac', 'sexless', 'weatherly', 'howardhowarth', 'nicotinism', 'communicative', 'falgout', 'echopraxia', 'caudill', 'homochromatic', 'bandbox', 'compliment', 'hankering', 'olds', 'cheriecherilyn', 'appreciation', 'stu', 'debag', 'dutch', 'giselle', 'nomenclator', 'haiduk', 'canal', 'fault', 'livestock', 'filmdom', 'lasko', 'saturation', 'jacobin', 'barge', 'bath', 'finagle', 'samanthasamanthia', 'applicant', 'clingstone', 'thirzi', 'eggleston', 'considerate', 'terr', 'sneer', 'story', 'rondon', 'east', 'cant', 'patchouli', 'temperate', 'hautemarne', 'figured', 'joppa', 'lowrance', 'elmoelmore', 'anglin', 'seabrooke', 'charming', 'gadolinium', 'marismarisa', 'pamella', 'dottie', 'dragone', 'burson', 'lissa', 'extracurricular', 'sandstrom', 'beacon', 'nomenclature', 'attainture', 'mcnally', 'barty', 'snore', 'shul', 'giguere', 'diaphysis', 'loney', 'ungotten', 'azaleah', 'registrant', 'rounding', 'ramiform', 'taboret', 'iveson', 'leister', 'stethoscope', 'divine', 'luane', 'trichromatism', 'systaltic', 'disfigurement', 'uncommonly', 'designer', 'aerolite', 'countersubject', 'gusti', 'ballyrag', 'jurel', 'ti', 'unguent', 'brownstone', 'bahr', 'enoch', 'biquadratic', 'malik', 'atlee', 'excrescency', 'forbiddance', 'mirabelle', 'hendiadys', 'twill', 'butyl', 'shelley', 'aves', 'culinarian', 'sim', 'defamatory', 'cystitis', 'bimanous', 'mango', 'motoneuron', 'palmate', 'flivver', 'kaz', 'krever', 'illsorted', 'pass', 'cotter', 'velarize', 'braynard', 'reider', 'distil', 'spadix', 'madelene', 'croce', 'lying', 'feleciafeledy', 'jonijonie', 'kim', 'wilkinson', 'kenyakenyatta', 'kavanaugh', 'skindeep', 'prehensile', 'keffer', 'mernamero', 'hartmunn', 'babb', 'pinpoint', 'supplication', 'dysentery', 'barnacle', 'ethylene', 'european', 'patin', 'tub', 'milligan', 'commitment', 'cogswell', 'lob', 'hunfredo', 'ternate', 'kaon', 'denary', 'mnemosyne', 'bigelow', 'cathee', 'pinnace', 'ulyssesumayyad', 'benedetto', 'hounding', 'scathing', 'shrum', 'ecology', 'kettledrummer', 'circularize', 'panel', 'miculek', 'melt', 'fabian', 'cultivable', 'plectron', 'thrilling', 'andersonandert', 'openfaced', 'friedrick', 'rascally', 'centrobaric', 'paulinapauline', 'diamond', 'oryx', 'kemper', 'marbut', 'rutile', 'dairen', 'dispersion', 'winther', 'valentinevalentino', 'rashid', 'tragus', 'cuffs', 'wherry', 'autoclave', 'irriguous', 'norri', 'woodall', 'hebrew', 'start', 'sepulveda', 'oleviaolfaction', 'toplevel', 'vast', 'choice', 'taunyataupe', 'moonshot', 'monandrous', 'hiragana', 'parimutuel', 'pagan', 'slashing', 'lindley', 'pomology', 'coaster', 'destalinization', 'panfish', 'becker', 'synthesis', 'cavanaugh', 'willtrude', 'sorbian', 'khalilahkhalin', 'leith', 'gounod', 'ronrona', 'hilariahilario', 'fasciate', 'setzer', 'sternway', 'tilly', 'francie', 'toxinantitoxin', 'snake', 'brush', 'moberg', 'renferd', 'pokorny', 'keeney', 'reremouse', 'rupert', 'ventilator', 'framboise', 'nyaya', 'shinshina', 'novelette', 'medial', 'nabonidus', 'copperas', 'valentino', 'refulgent', 'millipede', 'hogg', 'nonunionism', 'czarra', 'silvanasilvano', 'henderson', 'parkinson', 'oscoumbrian', 'obstetric', 'greco', 'trawick', 'elisavetgrad', 'gittern', 'arad', 'perice', 'tijerina', 'defector', 'isherwood', 'origan', 'hester', 'sarchet', 'eddie', 'manure', 'son', 'team', 'fantinlatour', 'devorahdevore', 'iterative', 'presidency', 'common', 'abramson', 'hallowmas', 'borneol', 'overton', 'ravelin', 'nestornestorian', 'bring', 'singhalese', 'viscid', 'cabman', 'krongold', 'hyperopia', 'roughish', 'functionalism', 'hyland', 'barnum', 'arrowy', 'countrywide', 'seasick', 'wellington', 'valene', 'laxity', 'orthogenic', 'frow', 'almeta', 'gamp', 'reconciliatory', 'brazen', 'sigridsigsmond', 'kissable', 'proclus', 'median', 'omnivorous', 'bel', 'aplenty', 'decompress', 'halbeib', 'continually', 'planometer', 'parkins', 'justis', 'gibber', 'uis', 'silsbye', 'selfseeker', 'unicycle', 'dairying', 'ophthalmoscopy', 'roily', 'waiter', 'maricela', 'languor', 'penance', 'cimbri', 'mirabella', 'reconcile', 'barlow', 'gabbert', 'goldfilled', 'ceramist', 'steward', 'selfmoving', 'distorted', 'charmer', 'tercet', 'autarch', 'sporozoite', 'platypus', 'graves', 'pagination', 'waterline', 'obregon', 'culverin', 'chopstick', 'negligee', 'hedge', 'lennyleno', 'motta', 'barham', 'corner', 'disassociate', 'risa', 'gaucho', 'hadj', 'testa', 'alpenhorn', 'glomerate', 'aviculture', 'upholstery', 'tamalatamale', 'alarcon', 'reitareiter', 'wrac', 'vasectomy', 'ceballos', 'reserve', 'sybil', 'frawley', 'charlinecharlock', 'southern', 'pistareen', 'tympan', 'falls', 'acrosstheboard', 'pyrogenous', 'waylan', 'trophic', 'cellulous', 'nib', 'hupp', 'hembree', 'daviddavida', 'loculus', 'bunnybunow', 'bethezel', 'wriggly', 'ultrasound', 'eldwun', 'feudal', 'cannice', 'silica', 'halvah', 'springhouse', 'scamp', 'albertson', 'except', 'chelseychelsie', 'eclosion', 'suppletion', 'kristopher', 'throat', 'nuptial', 'regenerative', 'interstitial', 'antimalarial', 'satori', 'timorous', 'mccauley', 'eyre', 'consanguinity', 'mycetozoan', 'mutton', 'naresh', 'communard', 'hagioscope', 'heartrending', 'eba', 'pika', 'simonesimoneau', 'swaraj', 'formosa', 'kronstadt', 'telemetry', 'unicameral', 'mcclean', 'fyn', 'carn', 'thistle', 'judah', 'merovingian', 'trumaine', 'hypethral', 'respondence', 'bari', 'nijinsky', 'garbanzo', 'whichsoever', 'dg', 'weylin', 'silassilastic', 'abbotsun', 'falkirk', 'primaveria', 'greenaway', 'polypus', 'ambrose', 'sharpshooter', 'canova', 'rhetic', 'laban', 'squeak', 'alarick', 'daryldaryle', 'kodok', 'rootless', 'pylorectomy', 'betweenwhiles', 'mount', 'roeser', 'amalamalbena', 'dartmouth', 'lal', 'halfcaste', 'arcturus', 'joly', 'horripilate', 'guanaco', 'loggia', 'rampart', 'chou', 'hyde', 'catafalque', 'devonne', 'mauldin', 'glasscock', 'forewarn', 'nearly', 'beane', 'commanding', 'mccray', 'glasgo', 'bolan', 'ioab', 'semidome', 'nard', 'emelina', 'alex', 'maxson', 'dealt', 'breann', 'chunchung', 'indrawn', 'silvana', 'nikolos', 'donegal', 'shill', 'prouty', 'stefaniastefanie', 'dawes', 'caras', 'bowerbird', 'approve', 'damage', 'leifleifer', 'array', 'rodgerrodgers', 'cain', 'hearty', 'realtor', 'legible', 'sean', 'grayson', 'phenanthrene', 'bolick', 'brunswick', 'hanks', 'assonance', 'clayclaybank', 'mckissick', 'chaddie', 'nose', 'coons', 'dwinnell', 'rusty', 'strafford', 'narbonne', 'episodic', 'kinsley', 'supersaturated', 'memoir', 'peh', 'danaides', 'elinorelinore', 'mychal', 'egwan', 'melgar', 'dandruff', 'alexei', 'lamented', 'chery', 'oomph', 'depend', 'eupatorium', 'goldthread', 'horsewoman', 'bloom', 'immaterialize', 'bini', 'blaspheme', 'colleencollege', 'capitulary', 'doe', 'ansate', 'urine', 'savoie', 'roid', 'magyar', 'rapids', 'fromm', 'odericus', 'siskind', 'peter', 'circumstantiate', 'fell', 'granny', 'ferrite', 'pros', 'trappings', 'disinfest', 'shreve', 'crimson', 'funnelform', 'bayle', 'torrlow', 'barraza', 'elsey', 'castorena', 'norton', 'hayward', 'changeful', 'hadden', 'houselights', 'recusancy', 'bolt', 'witling', 'archaize', 'rosenthal', 'lavine', 'borchardt', 'czarist', 'rickrickard', 'clear', 'kosse', 'saltation', 'jiminez', 'extractor', 'roof', 'glycoprotein', 'achilles', 'futtock', 'representative', 'edmead', 'flathead', 'berth', 'glacis', 'legislature', 'devlin', 'hesse', 'stock', 'coverture', 'betty', 'delectation', 'urias', 'pizarro', 'christhood', 'occupant', 'multifid', 'trout', 'declivitous', 'peanut', 'birch', 'witten', 'croon', 'revengeful', 'belloc', 'flounce', 'oliy', 'quatre', 'backgammon', 'lusitania', 'oilcan', 'psilocybin', 'platus', 'samsara', 'absolution', 'bootjack', 'lodestar', 'installment', 'sorcha', 'seaport', 'silesia', 'toledo', 'pantelegraph', 'heptahedron', 'garik', 'outage', 'grolier', 'excise', 'orchard', 'germano', 'butta', 'grass', 'evoy', 'extine', 'duchamp', 'contusion', 'laos', 'fiedling', 'hudson', 'superposition', 'vyse', 'barth', 'triecious', 'quickly', 'innovation', 'gissing', 'arouse', 'finale', 'volar', 'flour', 'grill', 'cardenas', 'dempstor', 'kelsy', 'feverfew', 'broom', 'lymphoma', 'shore', 'martine', 'eke', 'doggett', 'tiphane', 'mountford', 'tager', 'whencesoever', 'jaysonjaywalk', 'amundson', 'brufsky', 'shylashylock', 'orfurd', 'shanel', 'trici', 'ghastly', 'quaky', 'myer', 'halloran', 'foote', 'leoine', 'gravedigger', 'forzando', 'ingathering', 'forced', 'inconvenient', 'eno', 'finicky', 'missus', 'mede', 'cannon', 'whiggism', 'hypostatize', 'organometallic', 'swenson', 'palaearctic', 'gillam', 'euroclydon', 'mccutchen', 'abdominal', 'foster', 'craftsman', 'frenulum', 'pediculosis', 'honky', 'lightship', 'pollux', 'publus', 'limonene', 'cynthiacynthie', 'meiosis', 'harping', 'holman', 'batiste', 'skidmore', 'composer', 'knotting', 'ansela', 'shaker', 'herd', 'tollgate', 'bruno', 'strobile', 'godspeed', 'anisette', 'wagonlit', 'adaptive', 'goodell', 'phillip', 'appressed', 'jasisa', 'debauch', 'mcclimans', 'forefinger', 'highchair', 'abstruse', 'diehard', 'chrysotile', 'ebon', 'ferrara', 'almoner', 'annabelannabela', 'stalnaker', 'pellitory', 'pebbly', 'duotone', 'parr', 'grussing', 'dessiedessma', 'oldenburg', 'naylor', 'adulteress', 'pralltriller', 'bioenergetics', 'crt', 'parsnip', 'paderna', 'erlene', 'millinery', 'unveiling', 'campbellbannerman', 'carnap', 'heptode', 'cristiano', 'wamble', 'quenelle', 'liris', 'nameless', 'uchida', 'derision', 'arabel', 'angelita', 'ortego', 'carmelocarmen', 'hadsall', 'vasques', 'checkbook', 'wolframite', 'rutty', 'pennsylvania', 'kendakendal', 'amaral', 'craniate', 'unkindly', 'satin', 'assurance', 'dishpan', 'lazar', 'anastasio', 'bromoform', 'petard', 'bevel', 'edifice', 'chambertin', 'lug', 'dannadannel', 'umbrian', 'pileum', 'emanuel', 'dunbar', 'portland', 'hypoplasia', 'louisiana', 'wolff', 'peroxy', 'kinnikinnick', 'belldas', 'legatee', 'intent', 'gismo', 'fealty', 'xever', 'sesterce', 'tutt', 'hexapartite', 'seafarer', 'che', 'buckinghamshire', 'hotbox', 'gunflint', 'salvo', 'diocesan', 'footsore', 'marcelenemarcelia', 'bathos', 'coastguardsman', 'boisleduc', 'iterate', 'vachil', 'harriet', 'programmer', 'jessicajessie', 'sacrum', 'declaration', 'tempered', 'levitan', 'mcgraw', 'alfonzoalford', 'incongruent', 'nady', 'lira', 'kirin', 'lean', 'basketball', 'selfcontrol', 'anthropomorphosis', 'lazy', 'alphabetize', 'kresic', 'charge', 'resht', 'beast', 'theca', 'hornblende', 'larina', 'farlay', 'dodwell', 'afro', 'depalma', 'caducity', 'wrung', 'ladner', 'brachypterous', 'kenwee', 'searby', 'clamper', 'sibship', 'wheatworm', 'rosemaryrosemond', 'hexylresorcinol', 'medlin', 'cantone', 'wailful', 'ottie', 'buroker', 'blandishments', 'extrasystole', 'nitrosamine', 'brash', 'gunrunning', 'chromium', 'impunity', 'punnet', 'mckie', 'loux', 'guileless', 'dialecticism', 'dramatization', 'supplement', 'trinetta', 'bowing', 'einsteinium', 'exception', 'revelatory', 'castleman', 'marionmarionette', 'selfaggrandizement', 'mundy', 'catastrophe', 'racing', 'should', 'velodrome', 'walcott', 'primeval', 'georama', 'tog', 'toll', 'tinstone', 'photoreconnaissance', 'martell', 'terryterrye', 'ringed', 'hermaphroditism', 'lakh', 'kahler', 'retainer', 'poulson', 'beuthen', 'ope', 'loam', 'supersede', 'odessaodetta', 'gamal', 'sanchez', 'journalistic', 'drake', 'shafting', 'maritime', 'significance', 'drowsy', 'phinney', 'holdup', 'paramagnetism', 'signorelli', 'footslog', 'standley', 'phonogram', 'breakout', 'madrigal', 'walkway', 'plerre', 'disentangle', 'bushnell', 'responser', 'punctuality', 'surbased', 'hutchison', 'mcconaghy', 'megilp', 'kaolinite', 'cohosh', 'lambard', 'mesquite', 'obediah', 'anisometropia', 'chelicera', 'pastypat', 'slugabed', 'wray', 'interchange', 'iman', 'arte', 'fabrianne', 'untread', 'saulsauls', 'goodnatured', 'cree', 'fields', 'mapes', 'lannylanolin', 'overunder', 'consequential', 'electropositive', 'disforest', 'cattier', 'furlough', 'instal', 'papilionaceous', 'comet', 'colyer', 'grudge', 'valencia', 'diminuendo', 'oddfellow', 'oubliette', 'carlsbad', 'dooley', 'genniegennifer', 'blacken', 'fourflusher', 'miguel', 'abruzzi', 'monkhmer', 'bifrost', 'creation', 'artamas', 'botel', 'ansel', 'jackiejackinoffice', 'quinze', 'cream', 'uncurl', 'fiend', 'newspaperman', 'mensural', 'drench', 'normi', 'geophysics', 'desiccated', 'intermarry', 'nonjoinder', 'underplay', 'furnishings', 'gibe', 'ladino', 'aluminothermy', 'grandpapa', 'shortchange', 'ectropion', 'vanden', 'existentialism', 'infelicity', 'ales', 'grams', 'antipodal', 'pinard', 'coahuila', 'stoddard', 'heliport', 'scoville', 'seedbed', 'syreetasyria', 'devoir', 'pukka', 'cowpoke', 'maverick', 'willwilla', 'tolerance', 'downfall', 'soloist', 'overstrung', 'naxos', 'riffle', 'diggins', 'flyover', 'milt', 'swiftlet', 'acaroid', 'briquet', 'porterfield', 'ogata', 'prescription', 'gunlock', 'beitch', 'wasson', 'lizethlizette', 'rojas', 'emplace', 'keratoid', 'cartagena', 'blanchard', 'brattishing', 'prioress', 'university', 'disabuse', 'eremite', 'kapor', 'shirtwaist', 'nave', 'touzle', 'donegan', 'castoff', 'melton', 'tapetum', 'lights', 'arethaarethusa', 'colville', 'bustamante', 'benjamin', 'kootenay', 'tadzhik', 'chatterjee', 'eburnation', 'synonymous', 'misapprehension', 'trona', 'jemy', 'kerrison', 'perichondrium', 'deepsix', 'fontanel', 'rook', 'indene', 'prosaism', 'spring', 'coneflower', 'blunge', 'belated', 'theobald', 'centroid', 'eric', 'await', 'passer', 'viminal', 'definitive', 'institution', 'ame', 'christiano', 'mcdaniel', 'coprophilia', 'traverse', 'genovera', 'ferris', 'unkenned', 'mages', 'poirier', 'antiphony', 'thanh', 'edirne', 'foregone', 'asepsis', 'inflict', 'cologne', 'wade', 'therapsid', 'pinworm', 'paresis', 'rociorock', 'bluey', 'steatopygia', 'hydromedusa', 'equipotential', 'taveda', 'rocha', 'githens', 'offence', 'oxford', 'rountree', 'minuteman', 'collum', 'comanche', 'tether', 'mediation', 'cailean', 'kano', 'subprincipal', 'elora', 'survance', 'cerberus', 'opener', 'tendon', 'ryle', 'mirnamirror', 'gerek', 'ruination', 'gagarin', 'mchenry', 'spoilt', 'previse', 'mesitylene', 'grazia', 'lau', 'ulda', 'reld', 'dees', 'tarantass', 'milepost', 'cook', 'rhapsodize', 'flush', 'schilit', 'lucrecialucretia', 'aldred', 'hurlburt', 'jonna', 'boreas', 'ernie', 'vento', 'oversubtle', 'canon', 'tittletattle', 'serafinaserafine', 'dimmick', 'biocatalyst', 'airway', 'dugaid', 'calorie', 'tyrannosaur', 'pollack', 'spragens', 'biennial', 'burglar', 'tidewater', 'fixation', 'blatant', 'pascale', 'hagans', 'interscholastic', 'aesop', 'electronic', 'mannered', 'page', 'vengeful', 'benzol', 'metencephalon', 'truckage', 'bondholder', 'extremism', 'arnettaarnette', 'defiance', 'drisko', 'croesus', 'facies', 'lido', 'sienese', 'oversubtlety', 'historicism', 'marler', 'dennie', 'anyway', 'andy', 'bibb', 'so', 'holly', 'amicable', 'subplot', 'schlueter', 'recollected', 'deadandalive', 'smithereens', 'dorman', 'lookthrough', 'brainstorming', 'hecker', 'mohamed', 'frambesia', 'missymist', 'oblique', 'graveclothes', 'weldonwelfare', 'slaty', 'haugen', 'misuse', 'cerenkov', 'forgave', 'odilo', 'blesbok', 'towering', 'forereach', 'pilau', 'quarantine', 'burglary', 'ego', 'maze', 'martinelli', 'southeaster', 'sanford', 'elsie', 'munroe', 'jewry', 'magbie', 'console', 'cadaverine', 'astrodynamics', 'jorgejorgensen', 'seeley', 'fanti', 'onomatology', 'settles', 'subclinical', 'shin', 'mizzen', 'nobile', 'curvaceous', 'camerlengo', 'rossman', 'pisistratus', 'vaal', 'thrower', 'forespent', 'conidiophore', 'ajax', 'sapwood', 'illuminative', 'amplifier', 'circuitry', 'ryun', 'vivia', 'fracture', 'bandeen', 'winou', 'viviyan', 'rosa', 'insistent', 'oman', 'valenciavalenciennes', 'presumable', 'elective', 'cairistiona', 'mer', 'marleen', 'whereinto', 'claudicant', 'tweedy', 'demos', 'nester', 'alchemist', 'koball', 'salzman', 'thereat', 'sethrida', 'rondelle', 'locklear', 'alloway', 'oswald', 'stratfordonavon', 'thetes', 'allocate', 'wendell', 'dubious', 'arrears', 'allegorical', 'preference', 'dizon', 'stylograph', 'broadleaved', 'giraldo', 'unmanly', 'kaiser', 'arawakan', 'fresher', 'evans', 'braden', 'avid', 'novocaine', 'rollandrollaway', 'shayla', 'fairyfairyland', 'hartfield', 'epifaniaepifano', 'jeffcott', 'rosenblum', 'lofton', 'catt', 'keciakeck', 'mollescent', 'leaves', 'manhour', 'smutchy', 'adit', 'wanderoo', 'abram', 'vacuva', 'clair', 'bred', 'shuffleboard', 'oscar', 'heterophyte', 'audy', 'courtney', 'gynecic', 'harlanharland', 'dyeline', 'wingfooted', 'salisbury', 'hannah', 'excavator', 'escarpment', 'benoite', 'allodial', 'cobweb', 'demicanton', 'kuo', 'immoderate', 'junko', 'scurrilous', 'reshape', 'moth', 'rotgut', 'heterogeneity', 'beeswax', 'fan', 'thallus', 'shut', 'rodomontade', 'flem', 'northcutt', 'lucky', 'overtrick', 'meanwhile', 'rodney', 'echt', 'frankiefrankincense', 'mani', 'leighton', 'lukewarm', 'senate', 'confer', 'kusin', 'cheju', 'vue', 'seely', 'broadcloth', 'read', 'convert', 'projectionist', 'killdeer', 'gina', 'pentode', 'everest', 'disencumber', 'angelangela', 'luxembourg', 'rostock', 'retrusion']\n"
     ]
    }
   ],
   "source": [
    "def retrieve_users(data) :\n",
    "    \n",
    "    users = []\n",
    "    for entry in data :\n",
    "        users.append(entry.split(\";\")[1])\n",
    "    return list(set(users))\n",
    "\n",
    "myUsers = retrieve_users(myConnexions)\n",
    "print(myUsers)\n"
   ]
  },
  {
   "cell_type": "markdown",
   "metadata": {},
   "source": [
    "Creation d'une fonction pour enregister les utilisateurs dans un fichier."
   ]
  },
  {
   "cell_type": "code",
   "execution_count": 9,
   "metadata": {},
   "outputs": [],
   "source": [
    "def create_file(data, filename) :\n",
    "    with open(filename, \"w\") as f:\n",
    "        for row in data :\n",
    "            f.write(row+\"\\n\")\n",
    "    return\n",
    "\n",
    "#create_file(myUsers,\"./utilisateurs.txt\")"
   ]
  },
  {
   "cell_type": "markdown",
   "metadata": {},
   "source": [
    "**On soupçonne qu'une personne se connecte en dehors des heures d'ouverture des bureaux (8h-19h), peut-être depuis un poste distant.**\n",
    "\n",
    "2) Utilisez un script pour retrouver l'identifiant de cette personne ainsi que l'ip à la laquelle elle se connectait"
   ]
  },
  {
   "cell_type": "markdown",
   "metadata": {},
   "source": [
    "Creation d'une fonction pour récupérer les utilisateurs voulus en fonction de leurs heures de connexions."
   ]
  },
  {
   "cell_type": "code",
   "execution_count": 10,
   "metadata": {},
   "outputs": [
    {
     "name": "stdout",
     "output_type": "stream",
     "text": [
      "{'pisistratus': '93.170.131.108'}\n"
     ]
    }
   ],
   "source": [
    "def get_user_from_connexion_hours(data) :\n",
    "    \n",
    "    dict_hackers = {}\n",
    "    \n",
    "    for entry in data :\n",
    "        date = entry.split(\";\")[-1]\n",
    "        full_hour = date.split(\" \")[-1]\n",
    "        hour = full_hour.split(\":\")[0]\n",
    "        if int(hour) < 8 or int(hour) > 19 :\n",
    "            dict_hackers[entry.split(\";\")[1]] = entry.split(\";\")[0]    \n",
    "    return dict_hackers\n",
    "\n",
    "myHackers = get_user_from_connexion_hours(myConnexions)\n",
    "print(myHackers)"
   ]
  },
  {
   "cell_type": "markdown",
   "metadata": {},
   "source": [
    "**Le service de sécurité informatique a fournit un fichier contenant les ips dangereuses : warning.txt.**\n",
    "3) Lisez ce fichier pour construire une liste contenant toutes les ip dangereuses."
   ]
  },
  {
   "cell_type": "markdown",
   "metadata": {},
   "source": [
    "Creation d'une fonction pour lire le fichier d'ip dangeureux et récupérer ces dernieres."
   ]
  },
  {
   "cell_type": "code",
   "execution_count": 11,
   "metadata": {},
   "outputs": [
    {
     "name": "stdout",
     "output_type": "stream",
     "text": [
      "['92.63.87.106', '92.63.87.134', '92.63.87.48', '92.63.87.53', '93.170.104.127', '93.170.123.119', '93.170.123.185', '93.170.123.60', '93.170.131.108', '93.170.169.52', '94.242.57.45']\n"
     ]
    }
   ],
   "source": [
    "myDangerousIps = read_files(\"./warning.txt\")\n",
    "print(myDangerousIps)"
   ]
  },
  {
   "cell_type": "markdown",
   "metadata": {},
   "source": [
    "4) A l'aide de cette liste, relevez dans le fichier connexion.log tous les utilisateurs qui se sont connectés sur\n",
    "une de ces ip, on produira un fichier suspect.txt avec une ligne par utilisateur et le nombre de fois qu'il\n",
    "s'est connecté à une ip interdite"
   ]
  },
  {
   "cell_type": "markdown",
   "metadata": {},
   "source": [
    "Creation d'une fonction pour récupérer les utilisateurs qui se sont connectés avec une adresse ip dangeureuse et leur nombre de connexions avec.\n",
    "Creation d'une fonction pour creer un fichier qui sauvegarde ces informations."
   ]
  },
  {
   "cell_type": "code",
   "execution_count": 12,
   "metadata": {},
   "outputs": [
    {
     "name": "stdout",
     "output_type": "stream",
     "text": [
      "{'luxurious': 1, 'reconciliatory': 1, 'clair': 1, 'pisistratus': 46, 'nagel': 1, 'overelaborate': 1, 'turnpike': 1, 'forefinger': 1, 'puddling': 1, 'corkwood': 1, 'letti': 1, 'lazarus': 1, 'mather': 1, 'valediction': 1, 'vasectomy': 1, 'allodial': 1, 'mario': 1, 'dense': 1, 'arrears': 1, 'buckshee': 1, 'cerebration': 1, 'funnelform': 1, 'kodok': 1, 'culverin': 1, 'lido': 1, 'stilla': 1, 'greco': 1, 'mistook': 1, 'clumsy': 1, 'grass': 1, 'maxillary': 1, 'joly': 1, 'romance': 1, 'brazen': 1, 'hosbein': 1, 'dartmouth': 1, 'photoconductivity': 1, 'selfseeker': 1, 'ashia': 1, 'godown': 1, 'hoffmann': 1, 'outlive': 1, 'halstead': 1, 'directed': 1, 'furlough': 1, 'leake': 1, 'vagrancy': 1, 'pileum': 1, 'coit': 1, 'soloist': 1, 'toledo': 1, 'ballentine': 1, 'mesitylene': 1, 'enoch': 1, 'miculek': 1, 'antipathetic': 1, 'ame': 1, 'spectacles': 1, 'lushy': 1, 'resht': 1, 'noami': 1, 'eberta': 1, 'aland': 1, 'leeann': 1, 'fraase': 1, 'milepost': 1, 'panocha': 1, 'while': 1, 'stila': 1, 'orchard': 1, 'maricela': 1, 'spearing': 1, 'pomology': 1, 'disabuse': 1, 'broom': 1, 'huntington': 1, 'throat': 1, 'stutter': 1, 'calix': 1, 'counterpunch': 1, 'disposed': 1, 'incongruent': 1, 'weeks': 1, 'norrisnorrv': 1, 'ultramundane': 1, 'elora': 1, 'shore': 1, 'prouty': 1, 'cedric': 1, 'gothart': 1, 'monetta': 1, 'kab': 1, 'cystitis': 1, 'ireful': 1, 'quinby': 1, 'airhead': 1, 'heid': 1, 'derision': 1, 'rimbaud': 1, 'abdominal': 1, 'imponderabilia': 1, 'cincture': 1, 'stelmach': 1, 'joey': 1, 'atlee': 1, 'drypoint': 1, 'cushitic': 1, 'trona': 1, 'wilheminawilhide': 1, 'giselle': 1, 'marler': 1, 'tinstone': 1, 'serafinaserafine': 1, 'fairyfairyland': 1, 'nyaya': 1, 'alexandro': 1}\n"
     ]
    }
   ],
   "source": [
    "def create_file_from_dict(data, filename) :\n",
    "    with open(filename, \"w\") as f:\n",
    "        f.write(\"Username : number_of_connexions_with_suspicious_ip\\n\\n\")\n",
    "        for row in data.items() :\n",
    "            f.write(str(row[0]) + \" : \" + str(row[1]) + \"\\n\")\n",
    "    return\n",
    "\n",
    "def get_suspect_from_data(data_connexions, list_ip) :\n",
    "    \n",
    "    dict_suspect = dict()\n",
    "    for user in data_connexions :\n",
    "        user_ip =  user.split(\";\")[0]\n",
    "        if user_ip in list_ip :\n",
    "            user_name =  user.split(\";\")[1]\n",
    "            if user_name in dict_suspect.keys() :\n",
    "                dict_suspect[user_name] += 1\n",
    "            else :\n",
    "                dict_suspect[user_name] = 1\n",
    "    return dict_suspect\n",
    "\n",
    "mySuspects = get_suspect_from_data(myConnexions, myDangerousIps)\n",
    "print(mySuspects)\n",
    "#create_file_from_dict(mySuspects, \"./suspect.txt\")"
   ]
  }
 ],
 "metadata": {
  "kernelspec": {
   "display_name": "Python 3",
   "language": "python",
   "name": "python3"
  },
  "language_info": {
   "codemirror_mode": {
    "name": "ipython",
    "version": 3
   },
   "file_extension": ".py",
   "mimetype": "text/x-python",
   "name": "python",
   "nbconvert_exporter": "python",
   "pygments_lexer": "ipython3",
   "version": "3.9.13"
  }
 },
 "nbformat": 4,
 "nbformat_minor": 2
}
