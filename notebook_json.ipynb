{
 "cells": [
  {
   "cell_type": "markdown",
   "metadata": {},
   "source": [
    "**A vous de jouer pour retrouver le/les hackers (blackhat) infiltrés.**\n",
    "1) Parcourez le fichier pour trouver la liste de tous les utilisateurs qui se sont connectés, enregistrez cette liste dans un fichier utilisateurs.txt."
   ]
  },
  {
   "cell_type": "markdown",
   "metadata": {},
   "source": [
    "Creation d'une fonction pour lire le fichier de logs et récupérer ces derniers."
   ]
  },
  {
   "cell_type": "code",
   "execution_count": 26,
   "metadata": {},
   "outputs": [
    {
     "name": "stdout",
     "output_type": "stream",
     "text": [
      "Le nombre de logs total : 3488 logs\n",
      "Exemple de log :  ['214.218.210.12', 'maddux', '05/10/15 17:00']\n"
     ]
    }
   ],
   "source": [
    "def read_files(filename) :\n",
    "    \n",
    "    txt = []\n",
    "    f = open(filename, \"r\")\n",
    "    txt = f.read().splitlines()\n",
    "    f.close()\n",
    "    return txt\n",
    "\n",
    "namefile = \"connexion.log\"\n",
    "pathfile = \"./\"\n",
    "\n",
    "full_filepath = pathfile + namefile\n",
    "\n",
    "myConnexions = read_files(full_filepath)\n",
    "print(f\"Le nombre de logs total : {len(myConnexions)} logs\")\n",
    "print(\"Exemple de log : \", myConnexions[0].split(\";\"))"
   ]
  },
  {
   "cell_type": "markdown",
   "metadata": {},
   "source": [
    "Creation d'une fonction pour récupérer les utilisateurs à partir des logs."
   ]
  },
  {
   "cell_type": "code",
   "execution_count": 115,
   "metadata": {},
   "outputs": [
    {
     "name": "stdout",
     "output_type": "stream",
     "text": [
      "Il y a 3373 utilisateurs uniques repertories dans le fichier de log !\n",
      "Il y a donc une difference de 115 entre le nombre de connexions et le nombre d'utilisateurs uniques ! \n"
     ]
    }
   ],
   "source": [
    "def retrieve_users(data) :\n",
    "    \n",
    "    users = []\n",
    "    for entry in data :\n",
    "        users.append(entry.split(\";\")[1])\n",
    "    return list(set(users))\n",
    "\n",
    "myUsers = retrieve_users(myConnexions)\n",
    "print(f\"Il y a {len(myUsers)} utilisateurs uniques repertories dans le fichier de log !\")\n",
    "print(f\"Il y a donc une difference de {len(myConnexions) - len(myUsers)} entre le nombre de connexions et le nombre d'utilisateurs uniques ! \")\n",
    "#print(myUsers)\n"
   ]
  },
  {
   "cell_type": "markdown",
   "metadata": {},
   "source": [
    "Creation d'une fonction pour enregister les utilisateurs dans un fichier."
   ]
  },
  {
   "cell_type": "code",
   "execution_count": 116,
   "metadata": {},
   "outputs": [],
   "source": [
    "def create_file(data, filename) :\n",
    "    with open(filename, \"w\") as f:\n",
    "        for row in data :\n",
    "            f.write(row+\"\\n\")\n",
    "    return\n",
    "\n",
    "#create_file(myUsers,\"./utilisateurs.txt\")"
   ]
  },
  {
   "cell_type": "markdown",
   "metadata": {},
   "source": [
    "**On soupçonne qu'une personne se connecte en dehors des heures d'ouverture des bureaux (8h-19h), peut-être depuis un poste distant.**\n",
    "\n",
    "2) Utilisez un script pour retrouver l'identifiant de cette personne ainsi que l'ip à la laquelle elle se connectait"
   ]
  },
  {
   "cell_type": "markdown",
   "metadata": {},
   "source": [
    "Creation d'une fonction pour récupérer les utilisateurs voulus en fonction de leurs heures de connexions."
   ]
  },
  {
   "cell_type": "code",
   "execution_count": 117,
   "metadata": {},
   "outputs": [
    {
     "name": "stdout",
     "output_type": "stream",
     "text": [
      "Il y a 1 utilisateur(s) suspect(s) qui se connecte(nt) en dehors des horaires de bureau\n"
     ]
    }
   ],
   "source": [
    "def get_user_from_connexion_hours(data) :\n",
    "    \n",
    "    dict_hackers = {}\n",
    "    \n",
    "    for entry in data :\n",
    "        date = entry.split(\";\")[-1]\n",
    "        full_hour = date.split(\" \")[-1]\n",
    "        hour = full_hour.split(\":\")[0]\n",
    "        if int(hour) < 8 or int(hour) > 19 :\n",
    "            dict_hackers[entry.split(\";\")[1]] = entry.split(\";\")[0]    \n",
    "    return dict_hackers\n",
    "\n",
    "myHackers = get_user_from_connexion_hours(myConnexions)\n",
    "print(f\"Il y a {len(myHackers)} utilisateur(s) suspect(s) qui se connecte(nt) en dehors des horaires de bureau\")\n",
    "#print(myHackers)"
   ]
  },
  {
   "cell_type": "markdown",
   "metadata": {},
   "source": [
    "**Le service de sécurité informatique a fournit un fichier contenant les ips dangereuses : warning.txt.**\n",
    "3) Lisez ce fichier pour construire une liste contenant toutes les ip dangereuses."
   ]
  },
  {
   "cell_type": "markdown",
   "metadata": {},
   "source": [
    "Creation d'une fonction pour lire le fichier d'ip dangeureux et récupérer ces dernieres."
   ]
  },
  {
   "cell_type": "code",
   "execution_count": 118,
   "metadata": {},
   "outputs": [
    {
     "name": "stdout",
     "output_type": "stream",
     "text": [
      "Il y a 11 adresse(s) IP dangeureuse(s)\n"
     ]
    }
   ],
   "source": [
    "myDangerousIps = read_files(\"./warning.txt\")\n",
    "print(f\"Il y a {len(myDangerousIps)} adresse(s) IP dangeureuse(s)\")\n",
    "#print(myDangerousIps)"
   ]
  },
  {
   "cell_type": "markdown",
   "metadata": {},
   "source": [
    "4) A l'aide de cette liste, relevez dans le fichier connexion.log tous les utilisateurs qui se sont connectés sur\n",
    "une de ces ip, on produira un fichier suspect.txt avec une ligne par utilisateur et le nombre de fois qu'il\n",
    "s'est connecté à une ip interdite"
   ]
  },
  {
   "cell_type": "markdown",
   "metadata": {},
   "source": [
    "Creation d'une fonction pour récupérer les utilisateurs qui se sont connectés avec une adresse ip dangeureuse et leur nombre de connexions avec.\n",
    "Creation d'une fonction pour creer un fichier qui sauvegarde ces informations."
   ]
  },
  {
   "cell_type": "code",
   "execution_count": 119,
   "metadata": {},
   "outputs": [
    {
     "name": "stdout",
     "output_type": "stream",
     "text": [
      "Il y a 116 utilisateurs se connectant avec une adresse ip suspecte\n"
     ]
    }
   ],
   "source": [
    "def create_file_from_dict(data, filename) :\n",
    "    with open(filename, \"w\") as f:\n",
    "        f.write(\"Username : number_of_connexions_with_suspicious_ip\\n\\n\")\n",
    "        for row in data.items() :\n",
    "            f.write(str(row[0]) + \" : \" + str(row[1]) + \"\\n\")\n",
    "    return\n",
    "\n",
    "def get_suspect_from_data(data_connexions, list_ip) :\n",
    "    \n",
    "    dict_suspect = dict()\n",
    "    for user in data_connexions :\n",
    "        user_ip =  user.split(\";\")[0]\n",
    "        if user_ip in list_ip :\n",
    "            user_name =  user.split(\";\")[1]\n",
    "            if user_name in dict_suspect.keys() :\n",
    "                dict_suspect[user_name] += 1\n",
    "            else :\n",
    "                dict_suspect[user_name] = 1\n",
    "    return dict_suspect\n",
    "\n",
    "mySuspects = get_suspect_from_data(myConnexions, myDangerousIps)\n",
    "print(f\"Il y a {len(mySuspects)} utilisateurs se connectant avec une adresse ip suspecte\")\n",
    "#print(mySuspects)\n",
    "#create_file_from_dict(mySuspects, \"./suspect.txt\")"
   ]
  }
 ],
 "metadata": {
  "kernelspec": {
   "display_name": "Python 3",
   "language": "python",
   "name": "python3"
  },
  "language_info": {
   "codemirror_mode": {
    "name": "ipython",
    "version": 3
   },
   "file_extension": ".py",
   "mimetype": "text/x-python",
   "name": "python",
   "nbconvert_exporter": "python",
   "pygments_lexer": "ipython3",
   "version": "3.9.13"
  }
 },
 "nbformat": 4,
 "nbformat_minor": 2
}
