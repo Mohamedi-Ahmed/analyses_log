{
 "cells": [
  {
   "cell_type": "markdown",
   "metadata": {},
   "source": [
    "**A vous de jouer pour retrouver le/les hackers (blackhat) infiltrés.**\n",
    "1) Parcourez le fichier pour trouver la liste de tous les utilisateurs qui se sont connectés, enregistrez cette liste dans un fichier utilisateurs.txt."
   ]
  },
  {
   "cell_type": "markdown",
   "metadata": {},
   "source": [
    "Creation d'une fonction pour lire le fichier de logs et récupérer ces derniers."
   ]
  },
  {
   "cell_type": "code",
   "execution_count": 6,
   "metadata": {},
   "outputs": [
    {
     "name": "stdout",
     "output_type": "stream",
     "text": [
      "['214.218.210.12', 'maddux', '05/10/15 17:00']\n"
     ]
    }
   ],
   "source": [
    "def read_files(filename) :\n",
    "    \n",
    "    txt = []\n",
    "    f = open(filename, \"r\")\n",
    "    txt = f.read().splitlines()\n",
    "    f.close()\n",
    "    return txt\n",
    "\n",
    "namefile = \"connexion.log\"\n",
    "pathfile = \"./\"\n",
    "\n",
    "full_filepath = pathfile + namefile\n",
    "\n",
    "myConnexions = read_files(full_filepath)\n",
    "print(myConnexions[0].split(\";\"))"
   ]
  },
  {
   "cell_type": "markdown",
   "metadata": {},
   "source": [
    "Creation d'une fonction pour récupérer les utilisateurs à partir des logs."
   ]
  },
  {
   "cell_type": "code",
   "execution_count": 9,
   "metadata": {},
   "outputs": [
    {
     "name": "stdout",
     "output_type": "stream",
     "text": [
      "['maddux', 'nose', 'waterline', 'worlock', 'pass', 'disentangle', 'cursory', 'luxurious', 'assurance', 'krause', 'disforest', 'hurlburt', 'team', 'rotgut', 'peppy', 'martine', 'bumpy', 'gismo', 'gazo', 'downfall', 'bevel', 'novelette', 'ferrari', 'treatment', 'thrave', 'geophysics', 'reconciliatory', 'swiftlet', 'lallation', 'disconsolate', 'diagnose', 'subacid', 'mirnamirror', 'tifanytiff', 'caseate', 'sporogonium', 'jubilant', 'rhamnaceous', 'clair', 'kosey', 'forced', 'gustafson', 'terse', 'meridithmeriel', 'danndanna', 'haywoodhayyim', 'cohbath', 'seabrooke', 'comet', 'pisistratus', 'blatt', 'incoherence', 'remit', 'debtor', 'sage', 'chatterbox', 'jat', 'pronuba', 'upholstery', 'aesop', 'amphibrach', 'champollion', 'czarist', 'lofton', 'gounod', 'nagel', 'loux', 'waiter', 'bank', 'ceramist', 'cowpoke', 'michikomichon', 'uria', 'strawflower', 'impassive', 'dichotomy', 'arciform', 'senate', 'dit', 'estrange', 'febrifuge', 'benevolence', 'ramentum', 'drayton', 'mcclean', 'clayborne', 'tijerina', 'frenulum', 'venita', 'braswell', 'cubeb', 'eno', 'luxemburg', 'kris', 'berndt', 'threescore', 'designer', 'arabel', 'clark', 'platus', 'maganmagana', 'fontanel', 'charge', 'overelaborate', 'cellulous', 'pika', 'beeswax', 'nutria', 'turnpike', 'sialkot', 'skindeep', 'ulda', 'hangout', 'mechanist', 'messalina', 'nguyen', 'basanite', 'sidesman', 'devorahdevore', 'mirabella', 'footsore', 'haugen', 'gothicism', 'alex', 'electronic', 'antimalarial', 'erebus', 'quarantine', 'pisistratus', 'slr', 'terrilynterrine', 'gunflint', 'scurrilous', 'didynamous', 'mede', 'urine', 'rumanian', 'kookaburra', 'polyester', 'cooke', 'mccauley', 'so', 'buroker', 'sulphanilamide', 'restive', 'barger', 'attica', 'clyburn', 'megan', 'verger', 'beane', 'manhour', 'knute', 'shriver', 'cosentino', 'jobyna', 'dicho', 'bioenergetics', 'settles', 'borzoi', 'jacksmelt', 'deflation', 'elurd', 'brainstorming', 'andersonandert', 'bring', 'petitionary', 'coryphaeus', 'forefinger', 'lavine', 'fiedling', 'knucklebone', 'swaraj', 'dramatization', 'xochitlxp', 'limassol', 'litho', 'coverture', 'bushweller', 'ugh', 'che', 'deibel', 'higgs', 'milford', 'tate', 'dwinnell', 'plop', 'edenedens', 'goldfish', 'marionmarionette', 'lovelady', 'walkway', 'marigolde', 'brash', 'inequity', 'valene', 'borchardt', 'arvonio', 'shore', 'gretchen', 'berth', 'munroe', 'brazilin', 'birnbaum', 'pellitory', 'nettienetting', 'scorpius', 'sternway', 'conidiophore', 'attainture', 'tilly', 'supplication', 'existentialism', 'parvati', 'hembree', 'runofthemill', 'attribute', 'rickrickard', 'pisistratus', 'earwax', 'wall', 'vicechancellor', 'pascale', 'hypostatize', 'offence', 'gothar', 'alphonsoalphonsus', 'rodgerrodgers', 'pisistratus', 'heliport', 'goodwife', 'benedetto', 'pinnace', 'loculus', 'wingless', 'puddling', 'doubleedged', 'narco', 'infelicity', 'mello', 'devoir', 'carl', 'gibber', 'niko', 'charming', 'feigned', 'mccray', 'pantelegraph', 'burkhalter', 'amalamalbena', 'viscid', 'hemangioma', 'swansea', 'witham', 'corkwood', 'wilkinson', 'raised', 'granulose', 'gratis', 'letti', 'backbreaking', 'oversubtle', 'paternal', 'genovera', 'lights', 'applicant', 'odessaodetta', 'defiance', 'belloc', 'alfy', 'presurmise', 'gus', 'vinson', 'turnstone', 'glomerate', 'parasitize', 'platypus', 'kennet', 'randyranee', 'tekla', 'mallon', 'eldwun', 'previse', 'johnette', 'punak', 'coley', 'pondweed', 'lazarus', 'collaboration', 'astragalus', 'egwan', 'pithead', 'vermiculate', 'expectorant', 'bernardo', 'trabzon', 'plebeian', 'agist', 'galang', 'stalnaker', 'sanford', 'tardif', 'xever', 'penance', 'oryx', 'countersubject', 'geronimo', 'mossback', 'pebrook', 'composer', 'plugugly', 'assonance', 'installment', 'ingathering', 'histrionism', 'genniegennifer', 'mair', 'waylan', 'airburst', 'highchair', 'pisistratus', 'confiscate', 'brachypterous', 'renferd', 'squabble', 'mariner', 'purser', 'chesna', 'consciencestricken', 'buseck', 'tidewater', 'falkirk', 'cretinism', 'matland', 'noise', 'maulmain', 'amaral', 'crt', 'leflore', 'tercet', 'keciakeck', 'electrothermics', 'coastguardsman', 'facies', 'koball', 'electroencephalogram', 'graf', 'wolfram', 'mcroberts', 'complexity', 'polyp', 'rearward', 'intravasation', 'thereat', 'krongold', 'halfcaste', 'dodwell', 'hyson', 'hebrew', 'pamella', 'mather', 'retrieve', 'empiricism', 'alarick', 'estrella', 'flyover', 'bailiwick', 'reld', 'ashok', 'paderna', 'mcnally', 'nearly', 'slug', 'hartmunn', 'smashing', 'valediction', 'gape', 'story', 'cristen', 'sorcha', 'ladino', 'coahuila', 'twobit', 'barta', 'praline', 'magbie', 'holifield', 'diehard', 'creatural', 'tamalatamale', 'gobble', 'vagrancy', 'attitude', 'agribusiness', 'catastrophe', 'argentous', 'grams', 'mountford', 'saree', 'orthogenic', 'aalii', 'quinze', 'frank', 'ferrara', 'snore', 'gittern', 'pursuivant', 'lammas', 'potency', 'fields', 'norton', 'colleencollege', 'bernadine', 'outcrop', 'bluey', 'melton', 'henderson', 'joanejoanie', 'mckissick', 'eaglestone', 'tutt', 'footrest', 'lyrate', 'horsewoman', 'betweenwhiles', 'mentality', 'lindner', 'bate', 'reremouse', 'carbajal', 'bankruptcy', 'distorted', 'sanchez', 'nitrosamine', 'barrens', 'wingfooted', 'waylin', 'perichondrium', 'exploit', 'pisistratus', 'supersede', 'seasoning', 'emelina', 'hyperaesthesia', 'croon', 'dairying', 'homophony', 'dynamometer', 'hodgson', 'esther', 'ryun', 'touzle', 'seely', 'harveyharvie', 'beachlamar', 'wolframite', 'mannered', 'nudge', 'cardenas', 'phobos', 'spaceless', 'aguiar', 'autoclave', 'desideratum', 'halvah', 'ebon', 'wrung', 'mechling', 'judah', 'condyloma', 'motta', 'southeaster', 'sibship', 'bahr', 'boeke', 'neral', 'ceballos', 'incapable', 'boreas', 'this', 'wade', 'merovingian', 'selestina', 'emissary', 'anabantid', 'benzol', 'paring', 'hancock', 'quinnquinol', 'tarah', 'carapace', 'vasectomy', 'safekeeping', 'elisavetgrad', 'dickman', 'allodial', 'superposition', 'arcturus', 'uncommonly', 'finale', 'fyn', 'outfielder', 'mario', 'hullda', 'crescint', 'papilionaceous', 'bolan', 'subvention', 'array', 'trieste', 'dempstor', 'plenitude', 'carrier', 'pierre', 'haphtarah', 'sim', 'caseose', 'confusion', 'whitefaced', 'tugman', 'flighty', 'kussell', 'scoville', 'oversubtlety', 'dense', 'eyre', 'pisistratus', 'urochrome', 'grazia', 'adlei', 'kai', 'niki', 'ita', 'saturation', 'alcoran', 'photoreconnaissance', 'wahkuna', 'omor', 'preference', 'cailean', 'dawes', 'console', 'lightship', 'rondelle', 'lamented', 'allegra', 'circumspect', 'hexapartite', 'premeditate', 'restless', 'protectionism', 'gingras', 'ebersole', 'changeling', 'translunar', 'suiting', 'imprecise', 'hearty', 'kronstadt', 'jonna', 'effervesce', 'extrajudicial', 'berg', 'oxford', 'except', 'rothman', 'scammony', 'transonic', 'mernamero', 'godless', 'brattishing', 'broeker', 'nilson', 'lawrence', 'abruzzi', 'arrears', 'acaroid', 'justis', 'damned', 'aloes', 'narbonne', 'caducity', 'whereinto', 'wellington', 'nebiim', 'reserve', 'weylin', 'palomino', 'porterfield', 'steddman', 'skidmore', 'stallion', 'cleocleobulus', 'stouffer', 'stiles', 'european', 'oblique', 'spadix', 'stableboy', 'seeley', 'asepsis', 'regenerative', 'croze', 'intent', 'ballyrag', 'presentment', 'nectareous', 'electrocautery', 'odysseus', 'deannadeanne', 'gamp', 'peter', 'buckshee', 'pisistratus', 'forman', 'greenbelt', 'mensural', 'articulator', 'dupaix', 'dinadinah', 'dactylogram', 'bethanybethe', 'barraza', 'blat', 'dialecticism', 'lolitaloll', 'bostick', 'bolick', 'organometallic', 'tilth', 'grevera', 'fixation', 'soupy', 'loam', 'tweedy', 'graduation', 'wanderoo', 'carn', 'magill', 'dripstone', 'ansate', 'bushnell', 'oba', 'bari', 'excrescency', 'prussia', 'gauss', 'urias', 'escrow', 'akins', 'octahedral', 'cerebration', 'funnelform', 'hagans', 'deafanddumb', 'babb', 'fridell', 'annabelannabela', 'holdup', 'pisistratus', 'externalization', 'monzonite', 'shakti', 'baeda', 'terr', 'array', 'uwton', 'wailful', 'terwilliger', 'swenson', 'arrowy', 'cockadoodledoo', 'coprophilia', 'subclinical', 'mackenziemackerel', 'shellbark', 'ectropion', 'lefton', 'trumaine', 'southern', 'adar', 'machree', 'thiourea', 'barmen', 'jiminez', 'culinarian', 'electrotechnology', 'maverick', 'ileanaileane', 'schlueter', 'sandstrom', 'chalcedony', 'foote', 'transmittance', 'risa', 'aeolipile', 'platelet', 'phenanthrene', 'egotist', 'jennyjeno', 'tedmund', 'keffer', 'kodok', 'headdress', 'windbreak', 'raseta', 'rodney', 'toritorie', 'twill', 'parsnip', 'francie', 'spherics', 'marthena', 'occidentalize', 'fell', 'dirigible', 'catt', 'flathead', 'fracture', 'panier', 'rook', 'sethrida', 'responser', 'ernie', 'nitrobenzene', 'unprepared', 'lucky', 'bally', 'racing', 'archivist', 'fanti', 'blatant', 'sharynshashlik', 'mcgraw', 'burglar', 'necessitous', 'jigging', 'dice', 'lazar', 'laos', 'jonijonie', 'azaleah', 'pero', 'creation', 'arturoartus', 'gibe', 'indrawn', 'psychobiology', 'adulteress', 'brunswick', 'orchard', 'overton', 'kittykitwe', 'pitt', 'culverin', 'lavone', 'anabelanabella', 'intemerate', 'hypoplasia', 'saltcellar', 'colton', 'rhiana', 'umbrian', 'lido', 'irriguous', 'trawick', 'stilla', 'systaltic', 'pisistratus', 'billow', 'ringed', 'elwood', 'vega', 'bini', 'fishbolt', 'tecu', 'croce', 'combatant', 'bloom', 'canal', 'greco', 'blunt', 'elmoelmore', 'bianchi', 'anticlockwise', 'batten', 'fiend', 'hassett', 'lacking', 'hurricane', 'larina', 'jorgejorgensen', 'hendiadys', 'dorman', 'haydeehayden', 'amylum', 'elconin', 'vivien', 'infidel', 'dissymmetry', 'overtrick', 'gulick', 'pokorny', 'cook', 'consequential', 'airway', 'smutchy', 'communicative', 'sarchet', 'destalinization', 'marivaux', 'epiphysis', 'leonoreleonsis', 'arte', 'momus', 'cocklebur', 'mutton', 'casaba', 'talbott', 'silesia', 'blair', 'salisbury', 'wheatworm', 'uncurl', 'brownstone', 'schargel', 'iman', 'wrac', 'jone', 'blotch', 'forzando', 'doralyn', 'bondholder', 'nye', 'radiopaque', 'depression', 'contortion', 'dennie', 'hinson', 'lissa', 'cadaverine', 'trout', 'strobile', 'scurry', 'mistook', 'portage', 'bein', 'pallua', 'honky', 'kinna', 'plerre', 'corycorybant', 'hindu', 'stefaniastefanie', 'vallation', 'gilbreath', 'countercharge', 'grafting', 'tortile', 'kamin', 'ternate', 'kirin', 'taunt', 'epifaniaepifano', 'rabble', 'strafford', 'mount', 'jasisa', 'dingbat', 'savoie', 'conferva', 'newsman', 'belligerency', 'unkenned', 'mousebird', 'hondo', 'maybellmaybelle', 'shanel', 'pamella', 'kaon', 'interchange', 'goldfilled', 'pintsize', 'mount', 'betti', 'jilly', 'pizarro', 'fowling', 'dugaid', 'clumsy', 'repand', 'novella', 'feverfew', 'orfurd', 'cyclopedia', 'formwork', 'scent', 'tipster', 'lanham', 'bunnybunow', 'peace', 'guanaco', 'chisel', 'grass', 'urochrome', 'lumberjack', 'toll', 'emblaze', 'edmead', 'psilocybin', 'tsarevitch', 'andie', 'defamatory', 'exception', 'nibelungenlied', 'aerugo', 'vague', 'rashid', 'sacrum', 'maxillary', 'kibosh', 'blacksmith', 'towering', 'contrite', 'hideandseek', 'passed', 'joly', 'pisistratus', 'shonda', 'tager', 'regelation', 'fremont', 'tove', 'avid', 'piercy', 'rabbet', 'ibiza', 'postern', 'farlay', 'disbelief', 'tael', 'laxity', 'romance', 'flavour', 'vasques', 'republicanize', 'whomever', 'tether', 'heterophyte', 'northcutt', 'slaty', 'sienese', 'vento', 'punnet', 'dawna', 'franzen', 'harpoon', 'flabellum', 'boisleduc', 'cornel', 'ole', 'forename', 'loney', 'vidda', 'fritts', 'move', 'tedda', 'herd', 'jerryjerrybuild', 'unconcerned', 'brazen', 'electrotherapy', 'nicotiana', 'excretion', 'equally', 'premeditate', 'continually', 'pomerleau', 'delindadelineate', 'barlow', 'petersen', 'fealty', 'glacis', 'megilp', 'lakh', 'blacken', 'viviyan', 'rojas', 'palaearctic', 'oe', 'stockman', 'transfusion', 'adaptive', 'transistorize', 'alonaalone', 'red', 'verminous', 'changeful', 'stane', 'cerebrate', 'pistareen', 'plugugly', 'cardholder', 'greggs', 'bree', 'tesch', 'kidney', 'hosbein', 'tiphane', 'jerz', 'mnemonic', 'dartmouth', 'melodize', 'unwitnessed', 'restless', 'pragmatist', 'gumbotil', 'benjamin', 'missymist', 'blandishments', 'borneol', 'episodic', 'ulyssesumayyad', 'blush', 'openfaced', 'pisistratus', 'troublesome', 'trouvaille', 'lanie', 'proclus', 'minnick', 'prandial', 'diarmid', 'iterate', 'barge', 'keeney', 'barabarabarabas', 'oocyte', 'whiggism', 'wrand', 'empower', 'tallulah', 'pisistratus', 'maxson', 'tribalism', 'maice', 'gambol', 'outdate', 'coactive', 'photoconductivity', 'hay', 'cannice', 'muricate', 'naxos', 'girlie', 'pisistratus', 'cartagena', 'tragus', 'pless', 'tempered', 'missus', 'preserve', 'garbanzo', 'seaworthy', 'duchamp', 'icao', 'interscholastic', 'craftsman', 'chery', 'braden', 'jeffery', 'fanlight', 'antipodal', 'newsstand', 'hupp', 'oomph', 'sybil', 'foregone', 'dicot', 'chatterjee', 'arbitrary', 'tamtam', 'repentance', 'fiddling', 'karyosome', 'cartagena', 'creature', 'capitulary', 'sectarian', 'hypethral', 'mchenry', 'gamal', 'compilation', 'ravelin', 'anisette', 'rascally', 'mallee', 'glyndaglynias', 'unguent', 'silvanasilvano', 'often', 'ronrona', 'oligochaete', 'splasher', 'hanks', 'willianwillie', 'burglary', 'louisiana', 'hyposthenia', 'appreciation', 'justiciable', 'stereogram', 'selfseeker', 'debag', 'deterge', 'darrickdarrill', 'peek', 'myer', 'apparatus', 'ontology', 'nickname', 'wilek', 'directorial', 'arenicolous', 'synonymous', 'redouble', 'jehiah', 'ellary', 'huffman', 'evoy', 'eichman', 'krysta', 'frow', 'flyblown', 'afterpiece', 'rosenthal', 'percival', 'campbellbannerman', 'pisistratus', 'thorianite', 'suppletion', 'teleview', 'cain', 'bayle', 'heterochromatin', 'genesia', 'cheriecherilyn', 'ego', 'janettejaneva', 'barbarossa', 'savarin', 'amadeus', 'courtney', 'paleoasiatic', 'knotting', 'craniology', 'doggett', 'ilyssa', 'hayward', 'net', 'ephesus', 'newspaperman', 'cartwheel', 'balderdash', 'kapor', 'hogg', 'figured', 'divine', 'thirty', 'recusancy', 'cellulose', 'leiker', 'erythrocyte', 'steinke', 'loella', 'brufsky', 'sherlock', 'donegal', 'disario', 'florentinoflorenza', 'nonunionism', 'ashia', 'diamond', 'verdun', 'shulman', 'breakout', 'mariner', 'badalona', 'gillam', 'godown', 'freddyfredek', 'julienne', 'dissepiment', 'countrywide', 'flivver', 'prent', 'polysyllable', 'steatopygia', 'pisistratus', 'stamin', 'quatrefoil', 'hexylresorcinol', 'kao', 'east', 'porche', 'adsorbent', 'rame', 'anastatius', 'grandson', 'beitch', 'aldred', 'spragens', 'sigridsigsmond', 'infeasible', 'rosa', 'trichromatism', 'cerenkov', 'arbor', 'hobnailed', 'sporozoite', 'unfeeling', 'ugrian', 'journalistic', 'ginglymus', 'madrigal', 'cookbook', 'carmelocarmen', 'chlorite', 'fredric', 'bathos', 'willwilla', 'petersham', 'autoradiograph', 'loam', 'disinfest', 'isreal', 'triliteral', 'pessa', 'guileless', 'vesper', 'endophyte', 'hydrops', 'choragus', 'brandes', 'woodall', 'lira', 'hoffmann', 'pollack', 'albumin', 'feleciafeledy', 'alake', 'vivia', 'blastocyst', 'blane', 'springspringboard', 'ancalin', 'untread', 'alloway', 'drogheda', 'nectareous', 'tang', 'como', 'indene', 'maloney', 'outlive', 'ochoa', 'anteversion', 'deadandalive', 'lucite', 'tolerance', 'tropo', 'trent', 'haskins', 'megalocardia', 'shul', 'rental', 'sung', 'sirois', 'jealousy', 'commanding', 'babineaux', 'geary', 'traweek', 'dimmick', 'rambling', 'dimension', 'pisistratus', 'hurley', 'unmanly', 'recollected', 'rollandrollaway', 'forbiddance', 'oscoumbrian', 'halstead', 'marleah', 'dragone', 'charis', 'confer', 'homoio', 'giguere', 'desiccated', 'inexpensive', 'audy', 'jacobin', 'willtrude', 'bonus', 'obstetric', 'forespent', 'kenyakenyatta', 'quake', 'barty', 'lucrecialucretia', 'prescription', 'cuffs', 'subplot', 'baccy', 'aube', 'underplay', 'mongolia', 'curvaceous', 'pebbly', 'chou', 'jolley', 'diadelphous', 'fixture', 'extractor', 'ultramicrometer', 'adumbrate', 'angelo', 'panfish', 'endure', 'misapprehension', 'paramagnetism', 'christiano', 'glycine', 'rutile', 'origan', 'alex', 'eburnation', 'neddy', 'fatuity', 'gagarin', 'flunkey', 'conway', 'morrissey', 'gutenberg', 'possess', 'fin', 'resurgent', 'nomenclator', 'echt', 'cyanite', 'ovary', 'altorilievo', 'dutch', 'palmate', 'baerman', 'unicycle', 'flush', 'directed', 'elsey', 'poirier', 'latrinalatrine', 'ajax', 'overwinter', 'menhaden', 'oscar', 'madelene', 'erechtheum', 'latea', 'leatrice', 'paulinapauline', 'furlough', 'disinfectant', 'frederik', 'winder', 'pisistratus', 'sheepcote', 'hathor', 'trophic', 'leake', 'parent', 'tollgate', 'busload', 'pinworm', 'donegan', 'rimskykorsakov', 'proust', 'bibliography', 'xray', 'homebred', 'achondroplasia', 'circularize', 'cant', 'ammon', 'laubin', 'naylor', 'compressibility', 'owlet', 'panel', 'hare', 'gynoecium', 'vagrancy', 'gillette', 'planometer', 'dees', 'rameau', 'bussell', 'kist', 'angulate', 'brush', 'phinney', 'superinduce', 'syreetasyria', 'absolution', 'autolycus', 'greengage', 'aarhus', 'archaize', 'enteron', 'iey', 'briquet', 'devitalize', 'pisistratus', 'kragh', 'velleman', 'roughish', 'hydromedusa', 'larochelle', 'laban', 'voss', 'devonne', 'artery', 'cosette', 'pisistratus', 'baxter', 'nonresident', 'kachine', 'billhook', 'drier', 'ambrose', 'nichrome', 'extrasystole', 'start', 'ditheism', 'kavanaugh', 'kristopher', 'sifuentes', 'optician', 'reshape', 'bad', 'negligee', 'menthol', 'deictic', 'saulsauls', 'christmas', 'nonanonage', 'shaman', 'seventeen', 'nymphalid', 'polarity', 'evanston', 'angelia', 'helfrich', 'candlestick', 'incandescence', 'chock', 'hasson', 'subprincipal', 'evaporate', 'kuo', 'lymphoma', 'benson', 'reverberation', 'extine', 'fisk', 'pileum', 'kanya', 'centroid', 'presidency', 'horton', 'leighton', 'belated', 'toothbrush', 'castleman', 'tremendous', 'gesellschaft', 'nobile', 'goad', 'danaides', 'nib', 'diaphysis', 'montage', 'buckinghamshire', 'homelike', 'banyan', 'rociorock', 'arnettaarnette', 'wagonlit', 'mezereum', 'hadden', 'luis', 'supplement', 'bowing', 'birkle', 'kootenay', 'graham', 'tub', 'copperas', 'croesus', 'drumlin', 'nijinsky', 'gast', 'friedrick', 'lizethlizette', 'akeylah', 'multivocal', 'revelatory', 'metencephalon', 'attitude', 'mature', 'woodshed', 'jovitta', 'kaiak', 'somme', 'homograft', 'chaddie', 'moberg', 'butyl', 'kirin', 'becker', 'discreet', 'milt', 'vines', 'blanchard', 'brake', 'grime', 'emeryemesis', 'emplace', 'fowliang', 'desantis', 'punctuality', 'median', 'pennsylvania', 'coit', 'karinekariotta', 'krigsman', 'bale', 'kaslik', 'centrobaric', 'caudill', 'formosa', 'gawlas', 'genoa', 'adria', 'sholley', 'misprize', 'mediation', 'sneer', 'jemy', 'ormond', 'criminate', 'caballero', 'bruno', 'seasick', 'sapwood', 'isherwood', 'pisistratus', 'simonesimoneau', 'disassociate', 'millipede', 'mongrelize', 'nuptial', 'lambard', 'fourflusher', 'truckage', 'snake', 'wesleyanism', 'diggins', 'georama', 'plebiscite', 'crispate', 'celenacelene', 'dekko', 'dryden', 'tarsometatarsus', 'arvie', 'danilodanio', 'heptahedron', 'sleepyhead', 'kirbie', 'aplenty', 'cattier', 'portland', 'wrapped', 'beast', 'palomino', 'ermines', 'tempa', 'froe', 'mohamed', 'pralltriller', 'salvo', 'aggappora', 'contrarily', 'rees', 'reede', 'excitation', 'circumstantiate', 'bifrost', 'clear', 'pragmatist', 'historicism', 'mcwhirter', 'soloist', 'atli', 'guitar', 'drake', 'mcnair', 'bobby', 'timorous', 'blankenship', 'stefansson', 'catafalque', 'rountree', 'lionel', 'should', 'filtrate', 'determiner', 'semiprofessional', 'common', 'cementum', 'emboly', 'gunnysack', 'shinshina', 'reservist', 'mogador', 'miscellaneous', 'lieberman', 'excise', 'lipsey', 'spring', 'dilator', 'blaylock', 'rumormonger', 'misdirection', 'setback', 'mukul', 'valdis', 'toledo', 'characteristic', 'approve', 'ushaushant', 'ragouzis', 'swink', 'sollie', 'iterative', 'clinical', 'primaveria', 'dong', 'clywd', 'bibb', 'meiosis', 'lusitania', 'lannylanolin', 'radu', 'functionalism', 'barrelhouse', 'nicotinism', 'ballentine', 'vainglorious', 'menard', 'elinorelinore', 'mesitylene', 'chaulmoogra', 'mobocracy', 'springhouse', 'university', 'patchouli', 'martell', 'flounce', 'engels', 'longevity', 'nava', 'equipotential', 'catlett', 'barter', 'supersaturated', 'denary', 'pointing', 'aviculture', 'occupant', 'freeman', 'vivisect', 'fabian', 'hounding', 'germaine', 'triecious', 'enoch', 'spieler', 'trici', 'ophthalmoscopy', 'durwin', 'barnacle', 'norword', 'leuco', 'pugilist', 'jadeite', 'bethezel', 'vexed', 'unstrap', 'axenic', 'menstruum', 'grill', 'rutledge', 'miculek', 'glyndaglynias', 'nancienancy', 'joppa', 'reina', 'sacramentalism', 'halbeib', 'padang', 'boden', 'abram', 'catiline', 'gunrunning', 'bout', 'antipathetic', 'richma', 'groot', 'higdon', 'grecize', 'bridge', 'abstruse', 'winther', 'hic', 'odericus', 'lycia', 'ame', 'kusin', 'sharp', 'cognation', 'dooley', 'narrows', 'miguel', 'germano', 'boiler', 'keratoid', 'geopolitics', 'pilau', 'uis', 'oleviaolfaction', 'besotted', 'treviso', 'birch', 'hausfrau', 'aksoyn', 'ramos', 'arcturus', 'frailty', 'fricke', 'slouch', 'allocate', 'bodice', 'spectacles', 'alpenhorn', 'bentonbentonite', 'veritable', 'euroclydon', 'cinchonism', 'borglum', 'lindie', 'edifice', 'roeser', 'spirula', 'streusel', 'scathing', 'diminuendo', 'unprejudiced', 'gyrostabilizer', 'leek', 'thallus', 'adit', 'daryldaryle', 'ref', 'ova', 'essie', 'lassiter', 'pushup', 'malik', 'perique', 'tussah', 'edmondedmonda', 'velarize', 'nester', 'biocatalyst', 'musteline', 'phalansterian', 'dupre', 'caras', 'agraffe', 'shandishandie', 'eximious', 'institution', 'kettledrummer', 'alchemist', 'broadleaved', 'fromm', 'ivory', 'interstitial', 'castorena', 'excited', 'declivitous', 'roxieroxine', 'ungainly', 'mandamandaean', 'lushy', 'customer', 'northernmost', 'sather', 'selfmoving', 'housekeeping', 'cream', 'ottie', 'krall', 'iridize', 'rising', 'fasciate', 'durkin', 'pisistratus', 'ventilator', 'liquefy', 'raynata', 'betty', 'anthropomorphosis', 'resht', 'sematic', 'corrade', 'insistent', 'collum', 'environs', 'monandrous', 'alms', 'leandro', 'onomatology', 'karat', 'luddite', 'egbert', 'dishonorable', 'diocesan', 'anneliese', 'grudge', 'odalisque', 'shrum', 'essary', 'mallette', 'auric', 'ioab', 'permanent', 'lean', 'thornhill', 'noami', 'leifleifer', 'noiseless', 'revengeful', 'shiff', 'abramson', 'fan', 'survance', 'etheline', 'gnat', 'modestomodesty', 'eberta', 'quindecennial', 'martinelli', 'pickaback', 'peroxy', 'thereabouts', 'hester', 'shill', 'dishpan', 'olfe', 'rostock', 'ipsus', 'temperate', 'medina', 'woodprint', 'gadgetry', 'kunz', 'cartier', 'cultivable', 'burson', 'plectron', 'projectionist', 'jaddo', 'stonecutter', 'aland', 'modulus', 'marleen', 'undersurface', 'gissing', 'hermaphroditism', 'unsnap', 'detect', 'polymeric', 'cheung', 'greenaway', 'enceinte', 'parallelize', 'sugar', 'prosaism', 'lookthrough', 'pointblank', 'jeffcott', 'participate', 'significance', 'sorry', 'fussy', 'escarpment', 'acrosstheboard', 'redfish', 'oswald', 'duroc', 'motoneuron', 'orometer', 'parkman', 'tapetum', 'minuteman', 'colville', 'hannah', 'aquamarine', 'mckie', 'score', 'strapper', 'hilariahilario', 'footslog', 'ophthalmoscope', 'soundproof', 'isopiestic', 'fluency', 'grainy', 'hollister', 'stickup', 'leeann', 'sears', 'contusion', 'counterchange', 'canova', 'passer', 'rapids', 'dexterous', 'loggia', 'wolff', 'vengeful', 'vicar', 'psalter', 'injury', 'where', 'cardialgia', 'etherize', 'olney', 'antarctica', 'terpstra', 'vyse', 'lupelupee', 'marcelenemarcelia', 'fraase', 'palmer', 'fideicommissary', 'behaviorism', 'harping', 'missus', 'pisistratus', 'cesarean', 'sikes', 'milepost', 'presumable', 'sonnnie', 'bogeyman', 'modena', 'slashing', 'antonia', 'otti', 'broadcloth', 'pottle', 'pandowdy', 'tami', 'bicycle', 'panocha', 'pisistratus', 'hybris', 'frambesia', 'calcimine', 'barham', 'tendance', 'pollux', 'quatre', 'deactivate', 'bertilla', 'forewarn', 'enthuse', 'instal', 'sanitarium', 'doe', 'tarsia', 'week', 'whimsey', 'roily', 'phonogram', 'comanche', 'testate', 'while', 'unciform', 'shelley', 'arad', 'hecker', 'nolannolana', 'hepatic', 'seymourseys', 'deaver', 'rozalin', 'walke', 'rubierubiginous', 'deciduous', 'vaal', 'galvano', 'protero', 'lully', 'bath', 'excavate', 'eggleston', 'kalif', 'wirth', 'dipteral', 'pisistratus', 'coachwhip', 'fite', 'refulgent', 'estivation', 'ortego', 'moonshot', 'rickrickard', 'emmett', 'publus', 'cantone', 'castellano', 'roid', 'wamble', 'cruse', 'stila', 'cyano', 'depalma', 'hough', 'orchard', 'maricela', 'lancaster', 'immoderate', 'gynecic', 'hagioscope', 'gerek', 'shuster', 'grussing', 'wagonage', 'lowry', 'limoges', 'furr', 'ales', 'sipple', 'silsbye', 'pylorectomy', 'apps', 'duotone', 'chrysler', 'shack', 'massimo', 'sinner', 'putumayo', 'witten', 'seedbed', 'duchess', 'strawn', 'spearing', 'aves', 'aubade', 'sat', 'drowsy', 'waterless', 'stodder', 'mannerly', 'cree', 'prioress', 'modernism', 'pomology', 'marquesan', 'jewry', 'valenciavalenciennes', 'outage', 'mistrustful', 'gumbotil', 'colombes', 'lindner', 'mcnair', 'endosperm', 'interconnect', 'misrepresent', 'illene', 'amathiste', 'erlene', 'amicable', 'lying', 'defector', 'disabuse', 'fino', 'puffer', 'ramiform', 'resolved', 'holdover', 'flimflam', 'satori', 'blesbok', 'convexity', 'mastic', 'eddie', 'boarhound', 'disclamation', 'savoie', 'balzac', 'cloth', 'silvana', 'guardsman', 'licko', 'craniate', 'broom', 'gurolinick', 'huntington', 'throat', 'pushover', 'tintinnabulum', 'heartrending', 'estrada', 'vermiform', 'olds', 'tombac', 'furmark', 'pisistratus', 'republican', 'stutter', 'rhetic', 'polypus', 'whyte', 'tu', 'sola', 'uchida', 'ostrich', 'hudson', 'gash', 'hideaway', 'mango', 'ferris', 'tucson', 'kinnikinnick', 'lukewarm', 'kemper', 'fertilize', 'kalahari', 'quaky', 'bootjack', 'respondence', 'pekin', 'calix', 'astrodynamics', 'cacodyl', 'allegorical', 'alton', 'labionasal', 'rhythmics', 'elective', 'ungotten', 'cowan', 'artamas', 'winou', 'harley', 'serena', 'hautemarne', 'intermarry', 'counterpunch', 'holly', 'impunity', 'babin', 'papilionaceous', 'membranous', 'ethylene', 'rehabilitate', 'giuseppinagiustina', 'sentient', 'champac', 'rennin', 'easting', 'taboret', 'drench', 'epiphysis', 'thistle', 'sesterce', 'valentinevalentino', 'nameless', 'debra', 'mawkish', 'viminal', 'henderson', 'sascha', 'multifid', 'benoite', 'given', 'milligan', 'chook', 'blanka', 'marianelamariani', 'brandenburg', 'dizon', 'aluminothermy', 'kaleidoscopic', 'pisistratus', 'bertrambertrand', 'mcdonough', 'farro', 'vola', 'curtiscurtiss', 'tahmosh', 'mychal', 'svetlanasvoboda', 'leticialetisha', 'jenijenica', 'doloritas', 'misuse', 'summersummerhouse', 'deferment', 'orthman', 'lineation', 'payable', 'read', 'hippocrates', 'burl', 'mcclimans', 'stigmasterol', 'cinnabar', 'mundell', 'commitment', 'geffner', 'cabman', 'teazel', 'golliner', 'hiragana', 'rahman', 'ladner', 'bandeen', 'homothermal', 'ritualism', 'disposed', 'banian', 'mychael', 'selfregard', 'nonstriated', 'pretor', 'satin', 'slugabed', 'clamper', 'usherette', 'churn', 'edile', 'oneupmanship', 'naresh', 'forereach', 'homochromatic', 'fiddler', 'nunnery', 'tony', 'skiagraph', 'maplemaples', 'vast', 'elsie', 'cavanaugh', 'incongruent', 'oliy', 'logsdon', 'lal', 'kaz', 'affidavit', 'embow', 'permanganate', 'obediah', 'flinders', 'matthei', 'karena', 'pierrette', 'workmanship', 'demos', 'rounding', 'depend', 'dispersion', 'sixtasixteen', 'arouse', 'hike', 'neron', 'danelaw', 'gusti', 'derbyshire', 'belga', 'keener', 'medina', 'lurdan', 'matteroffact', 'remiss', 'larimer', 'kinsley', 'submergible', 'claudicant', 'weeks', 'ricercare', 'normi', 'batiste', 'krever', 'searby', 'pisistratus', 'castor', 'surbased', 'viyella', 'firmin', 'protist', 'deportation', 'kelsy', 'trappings', 'fresher', 'halloran', 'anguilliform', 'carlsbad', 'turmeric', 'eclosion', 'confer', 'damage', 'immaterialize', 'charteris', 'ragin', 'samanthasamanthia', 'sucy', 'cynthiacynthie', 'scamper', 'hallowmas', 'dunbar', 'ruthanneruthe', 'vortumnus', 'pentode', 'chloroprene', 'saxon', 'clayclaybank', 'rampart', 'harlanharland', 'smithereens', 'buckinghamshire', 'almeta', 'conant', 'vanden', 'weldonwelfare', 'shuffleboard', 'dubious', 'sharpshooter', 'taveda', 'orthicon', 'deel', 'harvester', 'hellman', 'cologne', 'orlop', 'hescock', 'bangweulu', 'angelangela', 'contravene', 'debauch', 'colyer', 'desirae', 'prevention', 'windham', 'mani', 'godroon', 'led', 'choice', 'pisistratus', 'leaves', 'norrisnorrv', 'greet', 'virendra', 'ultramundane', 'pirog', 'elora', 'declarant', 'hurst', 'shylashylock', 'glycoprotein', 'sparky', 'extracurricular', 'kim', 'sassanid', 'rodomontade', 'markel', 'eolande', 'malediction', 'circuitry', 'stefa', 'wort', 'malign', 'rondon', 'belligerency', 'cerberus', 'shore', 'elamite', 'hesse', 'crissycrist', 'tub', 'incorrect', 'simone', 'emergent', 'hutchison', 'tarantass', 'hereabouts', 'shafting', 'contraption', 'kissable', 'respire', 'scotch', 'smashandgrab', 'prouty', 'millinery', 'trinetta', 'meseems', 'omnivorous', 'patronymic', 'sowens', 'lob', 'moth', 'grandpapa', 'mizzen', 'hadsall', 'hals', 'iman', 'coons', 'maryrose', 'tetrapody', 'alexi', 'insurgence', 'rosemaryrosemond', 'arethaarethusa', 'paintbox', 'cedric', 'hexapody', 'abbate', 'demantoid', 'hartfield', 'corner', 'fear', 'lightfooted', 'mnemosyne', 'monkhmer', 'singhalese', 'until', 'negron', 'darreldarrell', 'amundson', 'communard', 'nodule', 'schuss', 'evidentiary', 'obstacle', 'meanwhile', 'christenson', 'atwood', 'enquire', 'tabloid', 'fumigate', 'hyrcania', 'surtax', 'eleanoreleanora', 'everest', 'nuts', 'melentha', 'eggbeater', 'willey', 'anyway', 'hyland', 'tammietammuz', 'melgar', 'schenck', 'fairtrade', 'hultgren', 'lodestar', 'additive', 'norri', 'vercingetorix', 'skyway', 'aspire', 'heterogeneity', 'appendage', 'dominions', 'distil', 'lau', 'frascati', 'boatright', 'innovation', 'memoir', 'evanthe', 'beliabelial', 'gothart', 'anissaanita', 'corned', 'rowdy', 'theobald', 'plugugly', 'cotter', 'redford', 'happ', 'coaster', 'postage', 'godspeed', 'cobweb', 'piston', 'botanomancy', 'traverse', 'cogswell', 'pisistratus', 'palladio', 'manure', 'falgout', 'coneflower', 'benedetto', 'damon', 'medlin', 'leoine', 'stephniestepladder', 'circumstance', 'schnook', 'miffy', 'morrie', 'uraemia', 'goodell', 'nave', 'kano', 'pisistratus', 'thrilling', 'chelicera', 'backgammon', 'consanguinity', 'gaucho', 'prothallus', 'estimative', 'unimproved', 'winder', 'hollingshead', 'sibel', 'phillip', 'parkinson', 'alberic', 'unicameral', 'passementerie', 'hornblende', 'stat', 'ilk', 'hortensiahorter', 'lehman', 'canon', 'futtock', 'parrnell', 'frankiefrankincense', 'gasaway', 'standpipe', 'deliberative', 'pastypat', 'monetta', 'surfing', 'kab', 'standley', 'caundra', 'georgiegeorgina', 'maier', 'acanthus', 'nestornestorian', 'cystitis', 'albertson', 'ogata', 'insectile', 'allegorical', 'chenille', 'catatonia', 'barth', 'ireful', 'whacky', 'if', 'limonene', 'nuts', 'andy', 'protoxylem', 'gouda', 'mccutchen', 'inconvenient', 'despite', 'pisistratus', 'dorcy', 'colquitt', 'outguard', 'liris', 'cinque', 'stylograph', 'evan', 'quinby', 'jurel', 'slay', 'heelandtoe', 'armes', 'deck', 'nonoccurrence', 'beardsley', 'ghastly', 'arraignment', 'steatopygia', 'pisistratus', 'dyeline', 'wheelman', 'stoddard', 'monet', 'ryle', 'caffrey', 'insouciance', 'surat', 'ludie', 'kinser', 'paulie', 'houselights', 'githens', 'pukka', 'persia', 'armijo', 'overunder', 'whichsoever', 'chevron', 'critta', 'czarra', 'holman', 'kinson', 'dandruff', 'kaolinite', 'gemination', 'liquidity', 'chromium', 'whencesoever', 'doublebank', 'woodwaxen', 'avion', 'antennule', 'sambo', 'cerebro', 'poussette', 'mages', 'caneghem', 'paedogenesis', 'suburb', 'giraldo', 'ils', 'maishamaisie', 'salzman', 'pisistratus', 'chromaticness', 'pisistratus', 'demandant', 'syringomyelia', 'luxembourg', 'gastrotrich', 'dicta', 'elizabetelizabeth', 'dottie', 'brause', 'inflict', 'bowerbird', 'longlimbed', 'uribe', 'demicanton', 'shaker', 'legible', 'heartstricken', 'lindley', 'edacity', 'sweater', 'alarcon', 'mycetozoan', 'hatter', 'braces', 'checkbook', 'riffle', 'dwelling', 'calorie', 'cyano', 'accidental', 'kendakendal', 'mesquite', 'glee', 'kahler', 'primeval', 'recalesce', 'dessiedessma', 'sepulveda', 'meaningless', 'gompers', 'reyreyes', 'watkin', 'airhead', 'goldshell', 'pickett', 'espadrille', 'bolt', 'bustamante', 'bigelow', 'bethink', 'oversupply', 'ries', 'claresta', 'wholesale', 'bootstrap', 'heid', 'antiphony', 'derbyshire', 'roundly', 'agrestic', 'uninstructed', 'afro', 'parr', 'shin', 'blunge', 'page', 'shanks', 'testa', 'rocha', 'roof', 'defective', 'gudgeon', 'bobsledding', 'thorne', 'haiduk', 'critical', 'livestock', 'embower', 'corn', 'noncontributory', 'campground', 'terreverte', 'octodecillion', 'blackthorn', 'grolier', 'spurling', 'straddle', 'hennessy', 'digiacomo', 'quenelle', 'dannadannel', 'pilsner', 'garik', 'tittle', 'sammie', 'gravedigger', 'therapsid', 'mauldin', 'rosenblum', 'decongestant', 'goldthread', 'muro', 'grappling', 'graf', 'harrar', 'jenevajeni', 'begum', 'wedged', 'representative', 'kosse', 'hedge', 'smoothen', 'mirabelle', 'immerge', 'domineca', 'junko', 'oenomel', 'maritime', 'closelipped', 'osteomalacia', 'melisa', 'jackinthepulpit', 'gunlock', 'derision', 'bred', 'ticktack', 'alkali', 'ditty', 'lawrence', 'jipijapa', 'sophistry', 'son', 'milano', 'disfigurement', 'haffner', 'perice', 'stomatal', 'volar', 'epistemology', 'squeak', 'cairistiona', 'stabilizer', 'glee', 'rimbaud', 'realtor', 'pisistratus', 'founder', 'hurless', 'felder', 'vachil', 'compliment', 'katakana', 'echopraxia', 'wray', 'turd', 'dipsomania', 'considerate', 'witling', 'sexless', 'pappy', 'muirhead', 'definitive', 'ecology', 'chelseychelsie', 'etiquette', 'mellott', 'warrantable', 'obregon', 'xanthe', 'garry', 'ellissa', 'adp', 'appressed', 'tafoya', 'jochbed', 'quickly', 'touristy', 'hadj', 'fault', 'papillary', 'mollescent', 'steven', 'signorelli', 'jadajadd', 'tendon', 'manualmanubrium', 'convert', 'forgave', 'angelita', 'graves', 'feudal', 'munson', 'toplevel', 'unkindly', 'beabeach', 'burton', 'eke', 'languor', 'seeing', 'saintsimonianism', 'towrey', 'eskill', 'ep', 'nomenclature', 'schuyler', 'leith', 'velleman', 'ballard', 'halfback', 'hunfredo', 'furnishings', 'caiaphas', 'print', 'involuntary', 'vacuva', 'stock', 'rutty', 'springhead', 'pugging', 'abdominal', 'capello', 'pisistratus', 'medardas', 'vedis', 'genna', 'sherleysherline', 'readiness', 'parimutuel', 'disencumber', 'delectation', 'iveson', 'siskind', 'cioffred', 'homemaker', 'construct', 'valencia', 'waly', 'oman', 'reich', 'alister', 'braynard', 'finagle', 'roxane', 'euler', 'filmdom', 'skillless', 'anastasio', 'lug', 'anatomy', 'gilbertogilbertson', 'watterson', 'dairen', 'wherry', 'haller', 'beacon', 'nationalist', 'tret', 'pisistratus', 'crump', 'morale', 'fadeless', 'petty', 'registrant', 'jessiajessica', 'helainehelali', 'ritualism', 'carnap', 'tabor', 'godbeare', 'aliped', 'calandracalandria', 'kaz', 'imponderabilia', 'chambertin', 'biotope', 'hankering', 'lassa', 'pyjamas', 'equipoise', 'chau', 'shirtwaist', 'anisometropia', 'mick', 'gabbert', 'retrusion', 'lazurite', 'kiehl', 'rummage', 'freud', 'cincture', 'pelaga', 'mummify', 'lefton', 'millennium', 'bowknot', 'thanh', 'faradic', 'oldenburg', 'helenahelene', 'troche', 'rossman', 'pisistratus', 'tichonn', 'sisak', 'thrower', 'stelmach', 'stoffel', 'outplay', 'electrophilic', 'blueprint', 'kresic', 'joey', 'parkins', 'drisko', 'seaport', 'farthing', 'osmose', 'atlee', 'vociferate', 'sharkey', 'sclerodermatous', 'declaration', 'offen', 'heptode', 'rickrickard', 'cheju', 'victim', 'centralia', 'alphabetize', 'cannon', 'cohosh', 'ganof', 'beuthen', 'steinberg', 'princedom', 'coastline', 'nielsen', 'bates', 'louella', 'pisistratus', 'harriet', 'malek', 'rufina', 'christhood', 'steelworker', 'tribulation', 'valentino', 'reconcile', 'hyde', 'bimanous', 'serpigo', 'programmer', 'aerolite', 'seizing', 'havard', 'pinpoint', 'kelton', 'deenadeenya', 'softfinned', 'goodnatured', 'paresis', 'jamikajamil', 'indue', 'theca', 'godown', 'orometer', 'dira', 'cherida', 'synthesis', 'aduwa', 'mascarenas', 'epi', 'magyar', 'silassilastic', 'furlani', 'dealt', 'anglin', 'essene', 'drypoint', 'autarch', 'coprophilia', 'alee', 'samale', 'bernetta', 'maze', 'verso', 'rabbinism', 'dysentery', 'pisistratus', 'locklear', 'ansel', 'wasson', 'penchant', 'irv', 'oddfellow', 'wonky', 'getty', 'schmid', 'libenson', 'silica', 'miso', 'doersten', 'maraca', 'achilles', 'morez', 'reider', 'illuminative', 'labarum', 'luminosity', 'sarong', 'devlin', 'eupatorium', 'hymnist', 'cushitic', 'walcott', 'foliose', 'medial', 'dg', 'mer', 'breann', 'howardhowarth', 'septi', 'ruination', 'arawakan', 'erinaceous', 'heterophyllous', 'tittletattle', 'oubliette', 'barong', 'goodly', 'scheelite', 'nabonidus', 'sorbian', 'bradawl', 'foster', 'fear', 'lomalomas', 'jaysonjaywalk', 'paries', 'pinard', 'bello', 'glasscock', 'queen', 'thirzi', 'penumbra', 'taunyataupe', 'retainer', 'rusty', 'kansu', 'nady', 'evans', 'jeminah', 'abolish', 'bradbradan', 'cerebro', 'stichous', 'einsteinium', 'luane', 'atheist', 'krems', 'nard', 'representationalism', 'odilo', 'accoucheur', 'sciential', 'irreverence', 'telemetry', 'marbut', 'fabrianne', 'illustrate', 'plast', 'gadolinium', 'almoner', 'novocaine', 'desertion', 'amersfoort', 'vue', 'overstrung', 'gymnast', 'layman', 'daviddavida', 'lennyleno', 'yah', 'debtor', 'cowage', 'trona', 'flour', 'scamp', 'finicky', 'eba', 'wilheminawilhide', 'chrysotile', 'ultrasound', 'whetstone', 'mundane', 'heptastich', 'brittle', 'shortchange', 'opener', 'tubercle', 'vara', 'chopstick', 'taam', 'clouded', 'gisarme', 'clingstone', 'selfesteem', 'granny', 'lowrance', 'samsara', 'emanuel', 'allegro', 'concertino', 'tadzhik', 'outreach', 'frawley', 'gina', 'jinny', 'leif', 'protasis', 'ansela', 'belldas', 'leister', 'creativity', 'multivibrator', 'daugherty', 'jervis', 'pridgen', 'staphylo', 'camerlengo', 'ponce', 'kwei', 'coopery', 'chunchung', 'silencer', 'clyte', 'bel', 'mausoleum', 'locris', 'tabbatha', 'secundine', 'extremism', 'framboise', 'amplifier', 'cicala', 'biquadratic', 'misfit', 'openhearth', 'rathbone', 'orontes', 'kenwee', 'hotbox', 'ferromagnesian', 'electrolytic', 'medwin', 'schilit', 'matrix', 'weatherly', 'kermitkermy', 'biotope', 'rappee', 'insula', 'hyperopia', 'frankie', 'rectitude', 'rupert', 'marismarisa', 'setzer', 'jackiejackinoffice', 'tog', 'pisistratus', 'hatfield', 'castoff', 'pernicious', 'prehensile', 'socialist', 'kinzer', 'spotweld', 'wriggly', 'gile', 'lecialecithin', 'owenowena', 'guyer', 'blaspheme', 'quintan', 'alexei', 'ferrite', 'wallasey', 'express', 'foxworth', 'firmament', 'veiling', 'plattdeutsch', 'rivas', 'eremite', 'paradox', 'adrienneadrift', 'stoecker', 'flemming', 'pisistratus', 'solley', 'juju', 'spacial', 'await', 'kaiser', 'hymettus', 'wendell', 'annulose', 'alister', 'giselle', 'abbotsun', 'facultative', 'desiderata', 'deepsix', 'charlinecharlock', 'sharmainesharman', 'ellipticity', 'alfonzoalford', 'semidome', 'singlefoot', 'killdeer', 'churchless', 'tibbetts', 'marler', 'brawley', 'assembly', 'botel', 'chromogenic', 'maddy', 'embank', 'paduasoy', 'pagination', 'stu', 'hereafter', 'lazy', 'velodrome', 'swithbart', 'kerrison', 'mcconaghy', 'hypercriticism', 'icon', 'barnum', 'toby', 'stock', 'lasko', 'bromoform', 'thetes', 'nonjoinder', 'anticlinorium', 'doelling', 'grayson', 'edirne', 'patin', 'scyphate', 'beulahbeuthel', 'ree', 'retraction', 'lifetime', 'coad', 'brooks', 'melanite', 'butylene', 'lander', 'scleroderma', 'chiffon', 'unveiling', 'maas', 'sumptuary', 'rhapsodize', 'spoilt', 'searby', 'torrlow', 'fantinlatour', 'craunch', 'pyrogenous', 'cathee', 'cimbri', 'sean', 'mentalist', 'reverberation', 'agripinaagrippa', 'villalpando', 'eric', 'horripilate', 'gurkha', 'poulson', 'alexei', 'hollingsworth', 'thaumaturgy', 'corporal', 'decompress', 'basketball', 'amok', 'stratfordonavon', 'nevertheless', 'khalilahkhalin', 'shindig', 'melt', 'dugan', 'dumas', 'traipse', 'wismar', 'selfaggrandizement', 'comte', 'guanabara', 'shut', 'aldo', 'crimson', 'pediculosis', 'umiak', 'aguascalientes', 'spermatophore', 'jarad', 'legislature', 'aduwa', 'saltation', 'tinstone', 'tonita', 'toad', 'lazar', 'conurbation', 'nikolos', 'renz', 'ops', 'pisistratus', 'graveclothes', 'blastogenesis', 'reitareiter', 'pineapple', 'legatee', 'upset', 'ti', 'madagascar', 'steward', 'inion', 'mundy', 'cleary', 'rootless', 'serafinaserafine', 'weep', 'pisistratus', 'shayla', 'ope', 'seafarer', 'naiad', 'peh', 'mylesmylitta', 'kelleher', 'modifier', 'ji', 'fairyfairyland', 'allowance', 'pagan', 'trituration', 'brickyard', 'nyaya', 'hiro', 'toxinantitoxin', 'charmer', 'clower', 'bevel', 'flem', 'tympan', 'lully', 'pros', 'crescentic', 'kee', 'electropositive', 'jessicajessie', 'marquise', 'herculaneum', 'mcdaniel', 'glenda', 'peanut', 'typhogenic', 'falls', 'oilcan', 'majewski', 'grope', 'foulmouthed', 'cristiano', 'levitan', 'filippo', 'stethoscope', 'leading', 'contravention', 'situate', 'pisistratus', 'alexandro', 'genoa', 'hexagon', 'domella', 'illsorted', 'inboard', 'hostage', 'bandbox', 'ursel', 'selfcontrol', 'tyrannosaur', 'untread', 'microcline', 'broadtail', 'biennial', 'shreve', 'marabou', 'kandace', 'eyeful', 'ananias', 'excavator', 'petard', 'glasgo', 'butta', 'leaguer', 'plagioclase', 'mapes', 'hebe', 'birthroot', 'mears', 'terryterrye']\n"
     ]
    }
   ],
   "source": [
    "def retrieve_users(data) :\n",
    "    \n",
    "    users = []\n",
    "    for entry in data :\n",
    "        users.append(entry.split(\";\")[1])\n",
    "    return list(set(users))\n",
    "\n",
    "myUsers = retrieve_users(myConnexions)\n",
    "print(myUsers)\n"
   ]
  },
  {
   "cell_type": "markdown",
   "metadata": {},
   "source": [
    "Creation d'une fonction pour enregister les utilisateurs dans un fichier."
   ]
  },
  {
   "cell_type": "code",
   "execution_count": null,
   "metadata": {},
   "outputs": [],
   "source": [
    "def create_file(data, filename) :\n",
    "    with open(filename, \"w\") as f:\n",
    "        for row in data :\n",
    "            f.write(row+\"\\n\")\n",
    "    return\n",
    "\n",
    "#create_file(myUsers,\"./utilisateurs.txt\")"
   ]
  },
  {
   "cell_type": "markdown",
   "metadata": {},
   "source": [
    "**On soupçonne qu'une personne se connecte en dehors des heures d'ouverture des bureaux (8h-19h), peut-être depuis un poste distant.**\n",
    "\n",
    "2) Utilisez un script pour retrouver l'identifiant de cette personne ainsi que l'ip à la laquelle elle se connectait"
   ]
  },
  {
   "cell_type": "markdown",
   "metadata": {},
   "source": [
    "Creation d'une fonction pour récupérer les utilisateurs voulus en fonction de leurs heures de connexions."
   ]
  },
  {
   "cell_type": "code",
   "execution_count": 10,
   "metadata": {},
   "outputs": [
    {
     "name": "stdout",
     "output_type": "stream",
     "text": [
      "{'pisistratus': '93.170.131.108'}\n"
     ]
    }
   ],
   "source": [
    "def get_user_from_connexion_hours(data) :\n",
    "    \n",
    "    dict_hackers = {}\n",
    "    \n",
    "    for entry in data :\n",
    "        date = entry.split(\";\")[-1]\n",
    "        full_hour = date.split(\" \")[-1]\n",
    "        hour = full_hour.split(\":\")[0]\n",
    "        if int(hour) < 8 or int(hour) > 19 :\n",
    "            dict_hackers[entry.split(\";\")[1]] = entry.split(\";\")[0]    \n",
    "    return dict_hackers\n",
    "\n",
    "myHackers = get_user_from_connexion_hours(myConnexions)\n",
    "print(myHackers)"
   ]
  },
  {
   "cell_type": "markdown",
   "metadata": {},
   "source": [
    "**Le service de sécurité informatique a fournit un fichier contenant les ips dangereuses : warning.txt.**\n",
    "3) Lisez ce fichier pour construire une liste contenant toutes les ip dangereuses."
   ]
  },
  {
   "cell_type": "markdown",
   "metadata": {},
   "source": [
    "Creation d'une fonction pour lire le fichier d'ip dangeureux et récupérer ces dernieres."
   ]
  },
  {
   "cell_type": "code",
   "execution_count": 11,
   "metadata": {},
   "outputs": [
    {
     "name": "stdout",
     "output_type": "stream",
     "text": [
      "['92.63.87.106', '92.63.87.134', '92.63.87.48', '92.63.87.53', '93.170.104.127', '93.170.123.119', '93.170.123.185', '93.170.123.60', '93.170.131.108', '93.170.169.52', '94.242.57.45']\n"
     ]
    }
   ],
   "source": [
    "myDangerousIps = read_files(\"./warning.txt\")\n",
    "print(myDangerousIps)"
   ]
  },
  {
   "cell_type": "markdown",
   "metadata": {},
   "source": [
    "4) A l'aide de cette liste, relevez dans le fichier connexion.log tous les utilisateurs qui se sont connectés sur\n",
    "une de ces ip, on produira un fichier suspect.txt avec une ligne par utilisateur et le nombre de fois qu'il\n",
    "s'est connecté à une ip interdite"
   ]
  },
  {
   "cell_type": "markdown",
   "metadata": {},
   "source": [
    "Creation d'une fonction pour récupérer les utilisateurs qui se sont connectés avec une adresse ip dangeureuse et leur nombre de connexions avec.\n",
    "Creation d'une fonction pour creer un fichier qui sauvegarde ces informations."
   ]
  },
  {
   "cell_type": "code",
   "execution_count": 12,
   "metadata": {},
   "outputs": [
    {
     "name": "stdout",
     "output_type": "stream",
     "text": [
      "{'luxurious': 1, 'reconciliatory': 1, 'clair': 1, 'pisistratus': 46, 'nagel': 1, 'overelaborate': 1, 'turnpike': 1, 'forefinger': 1, 'puddling': 1, 'corkwood': 1, 'letti': 1, 'lazarus': 1, 'mather': 1, 'valediction': 1, 'vasectomy': 1, 'allodial': 1, 'mario': 1, 'dense': 1, 'arrears': 1, 'buckshee': 1, 'cerebration': 1, 'funnelform': 1, 'kodok': 1, 'culverin': 1, 'lido': 1, 'stilla': 1, 'greco': 1, 'mistook': 1, 'clumsy': 1, 'grass': 1, 'maxillary': 1, 'joly': 1, 'romance': 1, 'brazen': 1, 'hosbein': 1, 'dartmouth': 1, 'photoconductivity': 1, 'selfseeker': 1, 'ashia': 1, 'godown': 1, 'hoffmann': 1, 'outlive': 1, 'halstead': 1, 'directed': 1, 'furlough': 1, 'leake': 1, 'vagrancy': 1, 'pileum': 1, 'coit': 1, 'soloist': 1, 'toledo': 1, 'ballentine': 1, 'mesitylene': 1, 'enoch': 1, 'miculek': 1, 'antipathetic': 1, 'ame': 1, 'spectacles': 1, 'lushy': 1, 'resht': 1, 'noami': 1, 'eberta': 1, 'aland': 1, 'leeann': 1, 'fraase': 1, 'milepost': 1, 'panocha': 1, 'while': 1, 'stila': 1, 'orchard': 1, 'maricela': 1, 'spearing': 1, 'pomology': 1, 'disabuse': 1, 'broom': 1, 'huntington': 1, 'throat': 1, 'stutter': 1, 'calix': 1, 'counterpunch': 1, 'disposed': 1, 'incongruent': 1, 'weeks': 1, 'norrisnorrv': 1, 'ultramundane': 1, 'elora': 1, 'shore': 1, 'prouty': 1, 'cedric': 1, 'gothart': 1, 'monetta': 1, 'kab': 1, 'cystitis': 1, 'ireful': 1, 'quinby': 1, 'airhead': 1, 'heid': 1, 'derision': 1, 'rimbaud': 1, 'abdominal': 1, 'imponderabilia': 1, 'cincture': 1, 'stelmach': 1, 'joey': 1, 'atlee': 1, 'drypoint': 1, 'cushitic': 1, 'trona': 1, 'wilheminawilhide': 1, 'giselle': 1, 'marler': 1, 'tinstone': 1, 'serafinaserafine': 1, 'fairyfairyland': 1, 'nyaya': 1, 'alexandro': 1}\n"
     ]
    }
   ],
   "source": [
    "def create_file_from_dict(data, filename) :\n",
    "    with open(filename, \"w\") as f:\n",
    "        f.write(\"Username : number_of_connexions_with_suspicious_ip\\n\\n\")\n",
    "        for row in data.items() :\n",
    "            f.write(str(row[0]) + \" : \" + str(row[1]) + \"\\n\")\n",
    "    return\n",
    "\n",
    "def get_suspect_from_data(data_connexions, list_ip) :\n",
    "    \n",
    "    dict_suspect = dict()\n",
    "    for user in data_connexions :\n",
    "        user_ip =  user.split(\";\")[0]\n",
    "        if user_ip in list_ip :\n",
    "            user_name =  user.split(\";\")[1]\n",
    "            if user_name in dict_suspect.keys() :\n",
    "                dict_suspect[user_name] += 1\n",
    "            else :\n",
    "                dict_suspect[user_name] = 1\n",
    "    return dict_suspect\n",
    "\n",
    "mySuspects = get_suspect_from_data(myConnexions, myDangerousIps)\n",
    "print(mySuspects)\n",
    "#create_file_from_dict(mySuspects, \"./suspect.txt\")"
   ]
  }
 ],
 "metadata": {
  "kernelspec": {
   "display_name": "Python 3",
   "language": "python",
   "name": "python3"
  },
  "language_info": {
   "codemirror_mode": {
    "name": "ipython",
    "version": 3
   },
   "file_extension": ".py",
   "mimetype": "text/x-python",
   "name": "python",
   "nbconvert_exporter": "python",
   "pygments_lexer": "ipython3",
   "version": "3.9.13"
  }
 },
 "nbformat": 4,
 "nbformat_minor": 2
}
